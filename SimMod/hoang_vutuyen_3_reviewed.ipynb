{
 "cells": [
  {
   "cell_type": "markdown",
   "metadata": {},
   "source": [
    "## Simulation und Modellierung WS16/17 - Uebung 03"
   ]
  },
  {
   "cell_type": "markdown",
   "metadata": {},
   "source": [
    "### Aufgabe 1\n",
    "\n",
    "- Schreiben Sie eine List Comprehension, welche zu einer gegebenen ganzen Zahl `p` eine Liste aller Teiler ausser `1` und `p` erstellt.\n",
    "- Schreiben Sie eine List Comprehension, welche eine Liste aller Primzahlen mit weniger als vier Dezimalziffern erstellt.\n",
    "- Ueberpruefen Sie anhand dieser Liste, ob `377` eine Primzahl ist.\n"
   ]
  },
  {
   "cell_type": "code",
   "execution_count": 3,
   "metadata": {
    "collapsed": false,
    "scrolled": true
   },
   "outputs": [
    {
     "name": "stdout",
     "output_type": "stream",
     "text": [
      "Gebe eine Zahl ein:444\n",
      "[2, 3, 4, 6, 12, 37, 74, 111, 148, 222]\n"
     ]
    }
   ],
   "source": [
    "\"Teilaufgabe 1\"\n",
    "\n",
    "p = int(input('Gebe eine Zahl ein:', ))\n",
    "l = [x for x in range(2,p) if (p%x)==0] # range startet bei 2 und endet bei p-1\n",
    "\n",
    "print(l) # die folgende Liste zeigt alle Teiler der Zahl p, ausser 1 und sich selbst, an.\n",
    "# sehr gut "
   ]
  },
  {
   "cell_type": "code",
   "execution_count": 3,
   "metadata": {
    "collapsed": false
   },
   "outputs": [
    {
     "name": "stdout",
     "output_type": "stream",
     "text": [
      "[2, 3, 5, 7, 11, 13, 17, 19, 23, 29, 31, 37, 41, 43, 47, 53, 59, 61, 67, 71, 73, 79, 83, 89, 97, 101, 103, 107, 109, 113, 127, 131, 137, 139, 149, 151, 157, 163, 167, 173, 179, 181, 191, 193, 197, 199, 211, 223, 227, 229, 233, 239, 241, 251, 257, 263, 269, 271, 277, 281, 283, 293, 307, 311, 313, 317, 331, 337, 347, 349, 353, 359, 367, 373, 379, 383, 389, 397, 401, 409, 419, 421, 431, 433, 439, 443, 449, 457, 461, 463, 467, 479, 487, 491, 499, 503, 509, 521, 523, 541, 547, 557, 563, 569, 571, 577, 587, 593, 599, 601, 607, 613, 617, 619, 631, 641, 643, 647, 653, 659, 661, 673, 677, 683, 691, 701, 709, 719, 727, 733, 739, 743, 751, 757, 761, 769, 773, 787, 797, 809, 811, 821, 823, 827, 829, 839, 853, 857, 859, 863, 877, 881, 883, 887, 907, 911, 919, 929, 937, 941, 947, 953, 967, 971, 977, 983, 991, 997]\n"
     ]
    },
    {
     "data": {
      "text/plain": [
       "False"
      ]
     },
     "execution_count": 3,
     "metadata": {},
     "output_type": "execute_result"
    }
   ],
   "source": [
    "\"Teilaufgabe 2 und 3\"\n",
    "max_prime = 1000\n",
    "keineprimzahlen = [y for y in range(2, max_prime) for y in range (y*2, max_prime, y)]\n",
    "primzahlen = [x for x in range(2, max_prime) if x not in keineprimzahlen]\n",
    "\n",
    "print(primzahlen) # Liste gibt die Primzahlen von 2 bis 999 an\n",
    "\n",
    "377 in primzahlen # Bool-Abfrage ob 377 in der Liste enthalten ist"
   ]
  },
  {
   "cell_type": "markdown",
   "metadata": {},
   "source": [
    "Ausgezeichnet, 7 Punkte"
   ]
  },
  {
   "cell_type": "markdown",
   "metadata": {},
   "source": [
    "### Aufgabe 2\n",
    "\n",
    "Schreiben Sie Python Code, welcher die Gleitkommazahl, welche durch eine gegebene 64 Bitfolge beschrieben wird berechnet. \n",
    "\n",
    "z.B. : `s = \"0100000001011110110111010011110000000111111011100000101100001011\"`\n",
    "\n",
    "*Hinweis :* Sie koennen eine Bitfolge `s` durch `int(s,base=2)` in eine ganze Zahl umwandeln."
   ]
  },
  {
   "cell_type": "code",
   "execution_count": null,
   "metadata": {
    "collapsed": false,
    "scrolled": false
   },
   "outputs": [],
   "source": []
  },
  {
   "cell_type": "code",
   "execution_count": null,
   "metadata": {
    "collapsed": false
   },
   "outputs": [],
   "source": []
  },
  {
   "cell_type": "markdown",
   "metadata": {},
   "source": [
    "Der folgende Code fuehrt die umgekehrte Operation aus. Aus einer `float64` Gleitkommazahl wird die Bitfolge generiert, welche diese Zahl repraesentiert. Ueberpruefen Sie damit Ihre Berechnung."
   ]
  },
  {
   "cell_type": "code",
   "execution_count": null,
   "metadata": {
    "collapsed": false
   },
   "outputs": [],
   "source": [
    "import numpy as np \n",
    "x=987.654321                         # schreiben Sie hier x=y, um die Bitfolge der float64 variable y zu erhalten\n",
    "b=np.array(x,dtype=np.float64)       # schreibt den Inhalt von x in ein Numpy array b\n",
    "b.dtype=np.int64                     # interpretiert den Inhalt von b als 64Bit ganze Zahl\n",
    "print(np.binary_repr(b,64))          # Ausgabe der Bitfolge fuer die ganze Zahl b"
   ]
  },
  {
   "cell_type": "markdown",
   "metadata": {},
   "source": [
    "### Aufgabe 3\n",
    "Welchen Wahrheitswert hat der Ausdruck `3.0*(1.0+0.2) == (3.0*1.0)+(3.0*0.2)` und warum?"
   ]
  },
  {
   "cell_type": "code",
   "execution_count": 2,
   "metadata": {
    "collapsed": false
   },
   "outputs": [
    {
     "data": {
      "text/plain": [
       "False"
      ]
     },
     "execution_count": 2,
     "metadata": {},
     "output_type": "execute_result"
    }
   ],
   "source": [
    "3.0*(1.0+0.2) == (3.0*1.0)+(3.0*0.2) \n",
    "\n",
    "# False, durch Rundungsfehler bei der Fließkommaberechnung\n",
    "# python gibt für 3.0*(1.0+0.2) < (3.0*1.0)+(3.0*0.2) True aus"
   ]
  },
  {
   "cell_type": "markdown",
   "metadata": {},
   "source": [
    "Die Aufgabe koennte man noch ausfuehrlicher bearbeiten. \n",
    "\n",
    "Wichtig ist die Aussage: auf beiden Seiten werden unterschiedliche Operationen ausgefuehrt, unter denen sich die Rundungsfehler unterschiedlich fortpflanzen. \n",
    "\n",
    "3Punkte"
   ]
  },
  {
   "cell_type": "markdown",
   "metadata": {},
   "source": [
    "------------------\n",
    "**nuetzliche Keyboard shotcuts**\n",
    "\n",
    "|              |               |\n",
    "|--------------|---------------|\n",
    "| `Esc`        | Kommando Modus   |\n",
    "| `Enter`      | Editier Modus    |\n",
    "|`Shift-Enter` | ausfuehren, Zelle darunter auswaehlen |\n",
    "|`Ctrl-Enter`  | ausfuehren, selbe Zelle auswaehlen    |\n",
    "|`Alt-Enter`   | ausfuehren, Zelle darunter einfuegen |\n",
    "| `b`          | Zelle unterhalb einfuegen |\n",
    "| `a`          | Zelle ueberhalb einfuegen |\n",
    "| `dd`          | Zelle loeschen |\n",
    "| `z`          | Zelle loeschen rueckgaengig machen |\n",
    "\n",
    "---------------------"
   ]
  }
 ],
 "metadata": {
  "anaconda-cloud": {},
  "kernelspec": {
   "display_name": "Python [default]",
   "language": "python",
   "name": "python3"
  },
  "language_info": {
   "codemirror_mode": {
    "name": "ipython",
    "version": 3
   },
   "file_extension": ".py",
   "mimetype": "text/x-python",
   "name": "python",
   "nbconvert_exporter": "python",
   "pygments_lexer": "ipython3",
   "version": "3.5.2"
  }
 },
 "nbformat": 4,
 "nbformat_minor": 0
}
