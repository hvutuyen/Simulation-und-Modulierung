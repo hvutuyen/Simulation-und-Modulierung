{
 "cells": [
  {
   "cell_type": "markdown",
   "metadata": {},
   "source": [
    "# Container Typen \n",
    "### Inhalt\n",
    "- [Listen, Tupel, Strings und Mengen](#Anfang)\n",
    "- [Methoden fuer `set` und `frozenset`](#set-und-frozenset)\n",
    "- [Methoden fuer `set`](#nur-set)\n",
    "- [Methoden fuer `list` und `tuple`](#list-und-tuple)\n",
    "- [Methoden fuer `list`](#nur-list)\n",
    "- [Indexnotation](#Indexnotation)\n",
    "- [Die Methoden `range`, `map`, `filter`, `reduce`, `zip`](#rangemapfilter)\n",
    "- [list comprehensions](#list-comprehensions)\n",
    "- [`string` Methoden](#strings)\n",
    "- [Interaktion](#Interaktion)\n",
    "- [String Formatierung](#string-Formatierung)"
   ]
  },
  {
   "cell_type": "markdown",
   "metadata": {},
   "source": [
    "### list, tuple, str, set, frozenset <a name=\"Anfang\">\n",
    "\n",
    "Typ              | Beispiel\n",
    "-----------------|---------\n",
    "`list`           | `M = [x, y, \"z\", [1.0, 'foo']]`\n",
    "`tuple`          | `T = (x, y, \"z\", [1.0, 'foo'])`\n",
    "`str`            | `s=\"abcdef\"` oder `s='abcdef'`\n",
    "`set`,`frozenset`| `A = {x, y, \"z\"}`, `F=frozenset(A)`\n",
    "`dict`           |  `D = {\"Titel\" : \"Sir\", \"Name\" : \"Robin\", 42 : True}`\n",
    "\n",
    "- Container sollten iterierbar sein : `for x in M : print(x)`\n",
    "- Container *koennen* sequenzierbar sein (`list`, `tuple`, `str`) : `M[i]`\n",
    "- Es gibt **veraenderbare** (mutable : `list`, `set`, `dict`,...) und **unveraenderbare** (immutable : `str`, `tuple`, `frozenset`, alle Zahlen) Objekte.\n",
    "- Unveraenderbare Objekte behalten ihren Inhalt nach der Erstellung, koennen aber veraenderbare Objekte enthalten.\n",
    "- Objekte koennen **hashable** sein. Dann sind sie geeignet als Elemente von `set` bzw. `frozenset` und als Indices fuer `dict`. Alle unveraenderbaren Objekte (die ausserdem keine veraenderbaren Objekte enthalten) sind **hashable**.\n",
    "- Alle built-in Container sind iterierbar und unterstuetzen die folgenden Anfragen :\n",
    "```python\n",
    "x in M      # ist x Element von M?\n",
    "x not in M  # ist x nicht Element von M?\n",
    "min(M)      # kleinstes Element aus M\n",
    "max(M)      # groesstes Element aus M\n",
    "len(M)      # Anzahl der Elemente in M\n",
    "sorted(M)   # sortierte Liste der Elemente aus M\n",
    "```\n",
    "\n",
    "- `containertype(M)` erzeugt einen neuen Container von Typ `containertype` mit den Elementen aus `M`, z.B. `tuple({1,\"a\"})`"
   ]
  },
  {
   "cell_type": "markdown",
   "metadata": {},
   "source": [
    "### set und frozenset\n",
    "\n",
    "```python\n",
    "M == N                               # Testet Mengengleichheit\n",
    "    \n",
    "M.isdisjoint(N)                      # Test auf leere Schnittmenge\n",
    "    \n",
    "M.issubset(N)                        # Test auf Teilmengeneigenschaft\n",
    "M <= N\n",
    "M < N                                # echte Teilmenge\n",
    "    \n",
    "M.issuperset(N)                      # Test auf Uebermengeneigenschaft\n",
    "M >= N        \n",
    "M > N                                # echte Uebermenge\n",
    "    \n",
    "M = N0.union(N1,N2,...)              # Mengenvereinigung\n",
    "M = N0 | N1 | N2 | ...\n",
    "    \n",
    "M = N0.intersection(N1,N2,...)       # Schnittmenge\n",
    "M = N0 & N1 & N2 & ...\n",
    "    \n",
    "M = N0.difference(N1,N2,...)         # Mengendifferenz\n",
    "M = N0 - N1 - N2 ...\n",
    "    \n",
    "M = N0.symmetric_difference(N1)      # symmetrische Differenz M = (N0/N1) | (N1/N0)\n",
    "M = N0 ^ N1                              \n",
    "```"
   ]
  },
  {
   "cell_type": "markdown",
   "metadata": {},
   "source": [
    "### nur set\n",
    "Die `update` Funktionen veraendern ein (mutable) Objekt direkt\n",
    "```python\n",
    "M.update(N0,N1,...)                  # vereinige M mit N0, N1, ...\n",
    "M |= N0 | N1 | ...\n",
    "    \n",
    "M.intersection_update(N0,N1,...)     # bilde Schnittmenge von M mit N0, N1, ...\n",
    "M &= N0 & N1 & ...\n",
    "    \n",
    "M.difference_update(N0,N1,...)       # bilde Differenz von M mit N0, N1, ...\n",
    "M -= N0 | N1 | ...\n",
    "    \n",
    "M.symmetric_difference_update(N)     # symmetrische Differenz von M mit N\n",
    "M ^= N\n",
    "    \n",
    "M.remove(x)                          # entferne Element x (Fehler, wenn x not in M)\n",
    "M.discard(x)                         # entferne x, falls x Element von M ist\n",
    "x = M.pop()                          # entferne ein Element aus M und nenne es x\n",
    "M.clear()                            # entfernen aller Elemente\n",
    "```\n"
   ]
  },
  {
   "cell_type": "markdown",
   "metadata": {},
   "source": [
    "### list und tuple\n",
    "\n",
    "```python\n",
    "M + N                                       # neuer Container mit allen Elemente aus M und N (Verkettung)\n",
    "n * M                                       # n-fache Verkettung von M\n",
    "M[i]                                        # i-tes Element von M (Zaehlung beginnt mit i=0)\n",
    "M[i:j]                                      # Kopie eines Teilstuecks von M mit Index i bis ausschliesslich j\n",
    "M[i:j:k]                                    # Teilstueck von i bis ausschliesslich j in Schritten von k\n",
    "M.index(x), M.index(x,i), M.index(x,i,j)    # erster Index von Element x in M[i:j]\n",
    "M.count(x)                                  # Anzahl der Elemente y in M mit x==y\n",
    "```"
   ]
  },
  {
   "cell_type": "markdown",
   "metadata": {},
   "source": [
    "### nur list\n",
    "\n",
    "```python\n",
    "M[i] = x                       # Zuweisung von Element bei Index i\n",
    "    \n",
    "M[i:j] = N                     # Ersetzen von Teilstueck i...j-1 durch Elemente aus N\n",
    "M[i:j:k] = N                   # Ersetzen mit Schrittweite k\n",
    "    \n",
    "M[i:j] = [], del M[i:j]        # Loeschen von Teilstuecken\n",
    "del M[i:j:k]                   # Loeschen mit Schrittweite k\n",
    "    \n",
    "M.append(x)                    # Anhaengen von Element x an das Ende der Liste\n",
    "M.extend(N)                    # Anhaengen aller Elemente aus N an M\n",
    "M.insert(i,x)                  # Einfuegen von x bei Index i\n",
    "x = M.pop(), x = M.pop(i)      # Entfernen eines Elementes vom Ende der Liste \n",
    "                                   # oder bei Index i und Benennung nach x\n",
    "                                   \n",
    "M.remove(x)                    # Entfernt erstes Element y mit y==x aus Liste (Fehler, wenn x not in M)\n",
    "M.reverse()                    # Umkehrung der Reihenfolge aller Elemente\n",
    "M.sort()                       # Sortierung der Elemente\n",
    "```"
   ]
  },
  {
   "cell_type": "markdown",
   "metadata": {},
   "source": [
    "### Indexnotation\n",
    "\n",
    "Idizierbare Objekte haben einen `\"[...]\"` operator, welcher Indexnotation versteht. Ein einfacher Index ist eine ganze Zahl. **Die Indizierung beginnt in Python bei 0**. Bereiche von indizierbaren Objekte lassen sich durch Indexnotation beschreiben.\n",
    "\n",
    "    i:j\n",
    "    \n",
    "beschreibt alle Elemente von Index `i` bis Index `j-1`. Das heisst **bis aussschliesslich** dem `j`-ten Element.\n",
    "\n",
    "    i:j:k \n",
    "    \n",
    "beschreibt alle Elemente bei `i`, `i+k`, `i+2k`, ..., `i+nk < j`, also die Elemente beim Index `i` und dann in Schritten der Laenge `k` **bis zum letzten Index, der kleiner ist** als `j`. \n",
    "\n",
    "Falls `k` negativ ist, dann werden die Elemente `i`, `i-|k|`, `i-2|k|`, ..., `i-n|k|>j` beschrieben, d.h. von einschliesslich `i` in Schritten negativer Laenge **bis zum ersten Index, der groesser ist** als `j`.\n",
    "\n",
    "Negative ganze Zahlen `i` und `j` beschreiben Indizes beginnend vom Ende der Liste. `-1` ist der Index des letzten Elements und `-2` der Index vom vorletzten Element.\n",
    "\n",
    "Laesst man bei den obigen Notationen die Zahlen `i`, `j` oder `k` weg, so wird `i=0` und `k=1` angenommen und soweit wie moeglich innerhalb des Containers iteriert.\n",
    "\n",
    "Beispiele :\n",
    "\n",
    "    M[:]           # ganzer Container\n",
    "    M[10:20]       # alle Elemente von 10 bis 19\n",
    "    M[::3]         # jedes dritte Element beginnend mit 0\n",
    "    M[-1]          # das letzte Element\n",
    "    M[:-1]         # alle Elemente ausser das letzte\n",
    "    M[-1::-1]      # alle Ememente in umgekehrter Reihenfolge, beginnend mit dem letzten\n"
   ]
  },
  {
   "cell_type": "markdown",
   "metadata": {},
   "source": [
    "### range, map, filter, reduce, zip <a name=\"rangemapfilter\">\n",
    "\n",
    "```python\n",
    "range(j), range(i,j), range(i,j,k)    # Liste mit ganzen Zahlen von i (default i=0) \n",
    "                                      # bis aussschliesslich j in Schritten der Laenge k\n",
    "                                          \n",
    "map(f,L)                              # Liste mit Werten f(x) fuer alle x aus L\n",
    "map(f,L0,L1,...)                      # Liste mit Werten f(x0,x1,...) fuer alle x0 aus L0, x1 aus L1, ....\n",
    "                                          \n",
    "filter(f,L)                           # Liste aller Elemente x aus L fuer die f(x) True ist\n",
    "    \n",
    "reduce(f,L)                           # - f muss mit zwei Argumenten aufrufbar sein.\n",
    "                                      # - falls len(L)==0, dann Fehlermeldung\n",
    "                                      # - falls len(L)==1, dann reduce(f,L)==L[0]\n",
    "                                      # - ansonsten reduce(f,L) = f(L[-1], reduce(f, L[:-1])\n",
    "                                      # reduce benutzt man oft, um Reihen oder Produktreihen auszurechnen\n",
    "                                      \n",
    "sum(L)                                # 0 + Summe aller Zahlen aus L (Fehler, wenn ein Element keine Zahl ist)\n",
    "    \n",
    "zip(L0,L1,...)                        # Liste mit Tupeln (x0,x1,...) von Elementen aus L0, L1, ...\n",
    "```"
   ]
  },
  {
   "cell_type": "markdown",
   "metadata": {},
   "source": [
    "### list comprehensions\n",
    "\n",
    "```python\n",
    "L = [Ausdruck for x in N]\n",
    "L = [Ausdruck for x in N if Bedingung]\n",
    "L = [Ausdruck for x in N for y in M if Bedingung]\n",
    "L = list(Ausdruck for ...)\n",
    "L = tuple(Ausdruck for ...)\n",
    "L = set(Ausdruck for ...)\n",
    "```\n",
    "zum Beispiel\n",
    "```python\n",
    "[ n/m for n in range(8) for m in range(8) if m!=0 ]\n",
    "[ p for p in xrange(2,1000) if not [q for q in xrange(2,p) if p%q==0] ]\n",
    "```"
   ]
  },
  {
   "cell_type": "markdown",
   "metadata": {},
   "source": [
    "### strings\n",
    "\n",
    "```python\n",
    "s.upper()                              # wandelt alle Buchstaben in Kleinbuchstaben um\n",
    "s.lower()                              # wandelt alle Buchstaben in Grossbuchstaben um\n",
    "    \n",
    "s.split()                              # Liste von Substrings, durch Leerzeichen (Tab...) getrennt sind\n",
    "s.split(sep),  split(sep,maxsplit)     # Liste von maximal maxsplit Substrings, die durch sep getrennt sind\n",
    "s.rsplit(sep,...)                      # wie split, nur von rechts beginnend\n",
    "    \n",
    "s.splitlines(), splitlines(keepsend)   # Liste der Zeilen in s mit (keepsends=True) oder ohne Umbruchzeichen\n",
    "    \n",
    "s.partition(sep)                       # 3-Tupel (pre,sep,suff), Trennung von s beim ersten Vorkommen von sep\n",
    "s.rpartition(sep)                      # wie partition, nur von rechts\n",
    "    \n",
    "s.find(sub), find(sub,i), find(sub,i,j) # index von erstem Vorkommen von sub in s (-1 falls sub not in s)\n",
    "s.rfind(sub)                            # wie find, nur von rechts\n",
    "    \n",
    "s.index(sub), index(sub,...)            # wie find, nur mit Fehlermeldung, falls sub not in s\n",
    "s.rindex(sub)                           # wie index, nur von rechts\n",
    "\n",
    "s.count(sub), count(sub,...)            # Anzahl nicht ueberlappender Vorkommen von sub in s\n",
    "    \n",
    "s.startswith(prefix), startswith(prefix,...) # beginnt s mit prefix?\n",
    "s.endswith(suffix)                           # endet s auf suffix?\n",
    "    \n",
    "s.zfill(width)                          # auffuellen von s mit Nullen bis zur Breite width\n",
    "```"
   ]
  },
  {
   "cell_type": "markdown",
   "metadata": {},
   "source": [
    "### Interaktion\n",
    "```python\n",
    "eval(Ausdruck)       # berechnet den string Ausdruck \n",
    "\n",
    "exec(Anweisung)      # fuehrt die string Anweisung aus\n",
    "\n",
    "s = raw_input(promt) # Ausgabe von promt und Tastatureingabe bis ENTER gedrueckt wird.\n",
    "                     # Die Tastatureingabe wird zurueckgegeben\n",
    "```"
   ]
  },
  {
   "cell_type": "markdown",
   "metadata": {},
   "source": [
    "### string Formatierung\n",
    "\n",
    "```python\n",
    "s.format(*Liste,**Dictionary)\n",
    "```\n",
    "ersetzt Formatierungsanweisungen `\"{...}\"` innerhalb des Strings `s` durch Elemente der `Liste` der Positionsargumente bzw. dem `Dictionary` der Schluesselwortargumente.\n",
    "\n",
    "- Sind die Klammern leer, so werden sie einfach in der Reihenfolge der Argumente von `format(...)` ersetzt. \n",
    "- Enthalten die Klammern Nummern und Schluesselworte, so Werden sie durch die entsprechenden Eintraege der Liste und des Woerterbuches ersetzt. \n",
    "- Sind die Elemente selbst indizierbar, so kann man mit dem `[...]` Operator weiter spezifizieren. \n",
    "- Besitzen die Elemente Attribute, so kann man sich auf diese zur Ausgabe beziehen.\n",
    "\n",
    "Nach der Spezifizierung kann man eine Konversationsanweisung `!s` oder `!r` geben, welche angibt, ob die Objekte mit der eigenen Methode `str()` oder `repr()` in Strings umgewandelt werden sollen.\n",
    "\n",
    "Fuer Zahlen kann man dann weitere Formatierungsanweisungen geben wobei die Reihenfolge zu beachten ist, man jedoch einzelne Anweisungen oder alle weglassen kann. \n",
    "```\n",
    ": fill align sign # 0 width , .prec type\n",
    "```\n",
    "\n",
    "- `fill` kann ein beliegieges Zeichen ausser `\"{\"` oder `\"}\"` sein, mit welchen auf die Mindestbreite `width` aufgefuellt werden soll.\n",
    "- `align` hat folgende Werte \n",
    "\n",
    "`align`|\n",
    ":-----:|------\n",
    "`>`    | von links \n",
    "`<`    | von rechts\n",
    "`^`    | von links und rechts (mittig)\n",
    "`=`    | zwischen Vorzeichen und Zahl\n",
    "\n",
    "- `sign` beschreibt, wie das Vorzeichen behandelt werden soll\n",
    "\n",
    "`sign` |\n",
    ":-----:|------\n",
    "`+`    | `+` und `-` werden mit ausgegeben \n",
    "`-`    | nur `\"-\"` wird ausgegeben\n",
    "`\" \"`  | positive Vorzeichen werde als Leerzeichen und negative als `\"-\"` ausgegeben\n",
    "\n",
    "- `#` ermoeglicht eine alternative Formatierung von einigen Typen. z.B. die Vorranstellung von 0b oder 0x fuer binary und hexadezimale Zahlen. Bei ganzen Gleitkomma Zahlen wird der Dezimalpunkt erzwungen.\n",
    "- Mit `0` an dieser Stelle wird die Ausgabe von links mit Nullen aufgefuellt\n",
    "- `width` gibt die Mindestbreite der Ausgabe an, auf die ansonsten aufgefuellt wird\n",
    "- Mit `,` werden Ziffern in Dreiergruppen durch Komma getrennt\n",
    "- `.prec` gibt die Anzahl der auszugebenden Nachkommastellen an\n",
    "- `type` kann die folgenden Werte annehmen\n",
    "\n",
    "type |\n",
    "-----|---------\n",
    "`b`\t | Binaerdarstellung von ganzen Zahlen\n",
    "`c`\t | ASCII Zeichen mit angegebener Nummer\n",
    "`d`\t | Dezimaldarstellung\n",
    "`e`\t | Gleitkommazahl in Exponentialdarstellung\n",
    "`E`\t | Wie `e` nur mit grossem `E` in der Ausgabe\n",
    "`f`\t | Darstellung mit festem Komma\n",
    "`g`\t | benutzt `f` oder `e` jenachdem welches eine kompaktere Darstellung hat\n",
    "`G`\t | wie `g` nur mit grossem `E` in der Exponentialdarstellung\n",
    "`n`\t | benutzt \"lokales Zahlenformat\", d.h. `1,234.56` in Amerika und `1.234,56` in Europa\n",
    "`o`\t | Oktaldarstellung (Basis 8) einer ganzen Zahl\n",
    "`x`\t | Hexadezimaldarstellung (Basis 16) von ganzen Zahlen mit Ziffern `\"0123456789abcdef\"`\n",
    "`X`\t | Hexadezimaldarstellung (Basis 16) von ganzen Zahlen mit Ziffern `\"0123456789ABCDEF\"`\n",
    "`%`\t | Umrechnung in Prozent (x100`\"%\"`)\n"
   ]
  },
  {
   "cell_type": "markdown",
   "metadata": {},
   "source": [
    "### Beispiele :\n",
    "#### Identifikation\n",
    "```python\n",
    "\"{0} {1} {2}. {0} {1}...\".format(99, 'bottles of beer', 'on the wall')           # nach Argumentposition\n",
    "\n",
    "'The answer is : {}{}'.format(42,'!')                                            # nach Reihenfolge\n",
    "\n",
    "'Koordinaten : ({Laenge},{Breite})'.format(Laenge=\"37.24N\", Breite=\"-115.8W\")    # nach Schluesselwortargumenten\n",
    "\n",
    "\"{0} {1} {1} {Title} {Name}.\".format('Brave','brave',Title='Sir',Name='Robin')   # nach Position \n",
    "                                                                                 #und Schluesselwoertern\n",
    "\n",
    "L=['Brave','brave']                                # Liste\n",
    "D={'Title' : 'Sir', 'Name' : 'Robin', 42 : True}   # Dictionary\n",
    "\n",
    "\"{0[0]} {0[1]} {0[1]} {1[Title]} {1[Name]}.\".format(L,D)         # nach Argumentposition und Indexschluessel\n",
    "\n",
    "\"{0} {1} {1} {Title} {Name}.\".format(*L,**D)                     # nach Position und Schluesselwoertern\n",
    "                                                                 # mit Entpacken der Liste und des Woerterbueches\n",
    "```\n",
    "#### Konversationsanweisung\n",
    "```python\n",
    "\"{!s}\".format(\"Barney\\'s\")\n",
    "\"{!r}\".format(\"Barney\\'s\")\n",
    "```\n",
    "\n",
    "#### Formatierung\n",
    "```python\n",
    "\"pi = {:.10E}\".format(np.pi)\n",
    "\"pi = {:.100f}\".format(np.pi)\n",
    "\"pi = {:.100g}\".format(np.pi)\n",
    "\"pi = {:0>70.50g}\".format(np.pi)\n",
    "\"pi = {:=+70.50f}\".format(np.pi)\n",
    "\"pi = {:1^40.20g}\".format(np.pi)\n",
    "```"
   ]
  },
  {
   "cell_type": "code",
   "execution_count": 1,
   "metadata": {
    "collapsed": true
   },
   "outputs": [],
   "source": [
    "import numpy as np"
   ]
  },
  {
   "cell_type": "code",
   "execution_count": 15,
   "metadata": {
    "collapsed": false
   },
   "outputs": [
    {
     "data": {
      "text/plain": [
       "'pi = 11111111113.1415926535897931161111111111'"
      ]
     },
     "execution_count": 15,
     "metadata": {},
     "output_type": "execute_result"
    }
   ],
   "source": [
    "\"pi = {:1^40.20g}\".format(np.pi)"
   ]
  },
  {
   "cell_type": "code",
   "execution_count": 17,
   "metadata": {
    "collapsed": false
   },
   "outputs": [
    {
     "data": {
      "text/plain": [
       "'pi = 000000000000000000003.141592653589793115997963468544185161590576171875'"
      ]
     },
     "execution_count": 17,
     "metadata": {},
     "output_type": "execute_result"
    }
   ],
   "source": [
    "\"pi = {:0>70.50g}\".format(np.pi)"
   ]
  },
  {
   "cell_type": "code",
   "execution_count": null,
   "metadata": {
    "collapsed": true
   },
   "outputs": [],
   "source": []
  }
 ],
 "metadata": {
  "anaconda-cloud": {},
  "kernelspec": {
   "display_name": "Python [default]",
   "language": "python",
   "name": "python3"
  },
  "language_info": {
   "codemirror_mode": {
    "name": "ipython",
    "version": 3
   },
   "file_extension": ".py",
   "mimetype": "text/x-python",
   "name": "python",
   "nbconvert_exporter": "python",
   "pygments_lexer": "ipython3",
   "version": "3.5.2"
  }
 },
 "nbformat": 4,
 "nbformat_minor": 0
}
