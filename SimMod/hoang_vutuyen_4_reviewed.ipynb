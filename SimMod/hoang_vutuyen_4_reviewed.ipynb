{
 "cells": [
  {
   "cell_type": "markdown",
   "metadata": {},
   "source": [
    "## Simulation und Modellierung WS16/17 - Uebung 03"
   ]
  },
  {
   "cell_type": "markdown",
   "metadata": {},
   "source": [
    "### Aufgabe 1 : Stichprobenvarianz\n",
    "Schreiben Sie eine Funktion `samplevar(L,ddof=1)`, welche aus allen Elementen $x_n\\in L$ die Varianz der Verteilung schaetzt,  unter der Annahme, dass die Elemente $x_n$ unabhaengig und gleichverteilte Zufallsvariablen sind. Die Funktion soll ein iterierbares Objekt `L` als Positionsargument und ein Schluesselwortargument `ddof` besitzen. \n",
    "\n",
    "Zur Erinnerung\n",
    "$$\n",
    "\\begin{eqnarray}\n",
    "    \\hat\\mu_1 &=& \\frac{1}{N}\\sum_{n=0}^{N-1} x_n \\\\ \n",
    "    \\hat\\mu_2 &=& \\frac{1}{N}\\sum_{n=0}^{N-1} x_n^2 \\\\\n",
    "    \\hat\\sigma^2 &=& \\frac{1}{N-ddof}\\sum_{n=0}^{N-1}\\left(x_n - \\hat\\mu_1\\right)^2 = \\frac{N}{N-ddof}\\left(\\hat\\mu_2 - \\hat\\mu_1^2\\right)\n",
    "    \\end{eqnarray}\n",
    "$$\n",
    "\n",
    "Vergleichen Sie mit dem Ergebnis der Funktion `numpy.var(L,ddof)`"
   ]
  },
  {
   "cell_type": "code",
   "execution_count": 1,
   "metadata": {
    "collapsed": false
   },
   "outputs": [],
   "source": [
    "def mittelwert(L, ddof=1):\n",
    "    \"\"\"Diese Funktion berechnet den Mittelwert einer Datenmenge.\n",
    "    Der Mittelwert wird fuer die darauffolgende Berechnung der Varianz benoetigt\"\"\"\n",
    "    \n",
    "    gesamt = len(L)\n",
    "    summe = 0\n",
    "    \n",
    "    for i in range(gesamt):\n",
    "        summe += L[i]\n",
    "    \n",
    "    return summe*1.0/gesamt # multipliziert mit 1.0 damit aus dem ergebnis eine float wird\n",
    "                   \n",
    "# oder nur: return sum(L)*1.0/len(L)    # genau. geht schneller und ist weniger fehleranfällig\n",
    "\n",
    "def samplevar(L, ddof=1):\n",
    "    \"\"\"Diese Funktion berechnet die korrigierte Varianz\"\"\"\n",
    "  \n",
    "    N = len(L)\n",
    "    \n",
    "    total_summe = 0\n",
    "    \n",
    "    M = mittelwert(L, ddof=1)\n",
    "    \n",
    "    for x in range(N):\n",
    "            total_summe += (L[x]-M)**2\n",
    "            \n",
    "    samplevar = total_summe*1.0 / (N - ddof)\n",
    "    # oder einfach:\n",
    "    \"\"\"N = len(L)\n",
    "    mu_1 = sum(L)/N\n",
    "    mu_2 = sum(L**2)/N   # experimentier mal damit rum!\n",
    "    sigma_squared = N/(N-ddof)*(mu_2-mu_1**2)\n",
    "    \"\"\"\n",
    "    return samplevar"
   ]
  },
  {
   "cell_type": "code",
   "execution_count": 2,
   "metadata": {
    "collapsed": true
   },
   "outputs": [],
   "source": [
    "samplevar?"
   ]
  },
  {
   "cell_type": "code",
   "execution_count": 3,
   "metadata": {
    "collapsed": false,
    "scrolled": false
   },
   "outputs": [
    {
     "name": "stdout",
     "output_type": "stream",
     "text": [
      "0.0852575599208\n",
      "0.0852575599208\n"
     ]
    }
   ],
   "source": [
    "import numpy as np\n",
    "\n",
    "L=np.random.rand(100)\n",
    "\n",
    "varianz = samplevar(L)\n",
    "print(varianz)\n",
    "\n",
    "s = np.var(L, ddof=1)\n",
    "print(s)"
   ]
  },
  {
   "cell_type": "markdown",
   "metadata": {},
   "source": [
    "Sehr schön!\n"
   ]
  },
  {
   "cell_type": "markdown",
   "metadata": {},
   "source": [
    "### Aufgabe 2 : Interaktion und Fehlertoleranz\n",
    "\n",
    "- Schreiben Sie eine Funktion `find_my_zero(f,x0,eps=1E-5)` welche solange eine Tastatureingabe verlangt, diese in eine Gleitkommazahl `x` umwandelt und `f(x)` ausgibt, bis entweder `|f(x)|<=|eps|` oder die Tastatureingabe leer ist (nur ENTER gedrueckt). Die Funktion gibt die zuletzt eingegebene Zahl mit `return` zurueck. Verfassen Sie einen guten Dokumentationstext und eine selbsterklaerende Eingabeaufforderung. Fangen Sie moegliche Fehler bei der Tastatureingabe ab, und geben Sie eine eigene Fehlermeldung aus, ohne den Programmablauf zu unterbrechen.\n",
    "- Finden Sie $\\pi$ manuell bis auf 10 Dezimalstellen nach dem Komma als Nullstelle der Funktion $\\sin(x)$\n",
    "\n",
    "**Hinweis** : belesen Sie sich ueber `while` Schleifen und die `try`/`except` Kontrollstruktur. "
   ]
  },
  {
   "cell_type": "code",
   "execution_count": null,
   "metadata": {
    "collapsed": false
   },
   "outputs": [],
   "source": [
    "# definieren Sie hier Ihre Funktion find_my_zero\n",
    "\n",
    "s =input(\"bitte geben Sie eine Zahl ein :\")\n",
    "def find_my_zero(f,x0,eps=1E-5):\n",
    "    try : \n",
    "        x=float(s)\n",
    "        print(\"Die Zahl ist\", x) \n",
    "    except :\n",
    "        print(\"Keine Zahl!\")\n",
    "\n",
    "# habe leider keine idee :("
   ]
  },
  {
   "cell_type": "markdown",
   "metadata": {
    "collapsed": false
   },
   "source": [
    "Wir wiederholen heute in der Übung nochmal if, elif, else, while. Vielleicht wird dir die Aufgabe dann klarer. Oder wusstest du nicht, was mit der Fragestellung gemeint ist? -- Dann frag mal nächstes mal per Mail nach, sonst verlierst du die Punkte ja bisschen unsinnig..\n",
    "\n",
    "6 Punkte"
   ]
  },
  {
   "cell_type": "markdown",
   "metadata": {},
   "source": [
    "## Kontrollstrukturen (vereinfacht)"
   ]
  },
  {
   "cell_type": "code",
   "execution_count": null,
   "metadata": {
    "collapsed": true
   },
   "outputs": [],
   "source": []
  },
  {
   "cell_type": "markdown",
   "metadata": {},
   "source": [
    "### while Schleife\n",
    "In einer `while` Schleife wird **als erstes** der Wahrheitswert eines Ausdruckes bestimmt und falls dieser `True` ist ein Anweisungsblock ausgefuehrt. Diese beiden Schritte der `while` Schleife werden solange wiederholt, bis der Ausdruck den Wahrheitswert `False` hat. \n",
    "```python\n",
    "while Ausdruck :\n",
    "    Anweisungblock\n",
    "```"
   ]
  },
  {
   "cell_type": "markdown",
   "metadata": {},
   "source": [
    "### for Schleife\n",
    "In `for` Schleifen wird ueber die Elemente eines iterierbaren Objektesn (z.B. Container) iteriert. Der Anweisungsblock wird fuer jedes Element einmal ausgefuehrt.\n",
    "```python\n",
    "for x in M :\n",
    "    Anweisungsblock\n",
    "    # x nimmt nacheinander die Identitaet der Emelente aus dem iterierbaren Objekt M an\n",
    "```\n",
    "Soll ueber ganze Zahlen iteriert werden, so verwendet man `range(j)` (in Python 2 `xrange(j)`) als `M`.\n"
   ]
  },
  {
   "cell_type": "markdown",
   "metadata": {},
   "source": [
    "### try-except\n",
    "Fuehrt eine Anweisung, welche im `try` Anweisungsblock einer `try-except` Umgebung steht zu einem Fehler mit Programmabbruch, so bricht das Programm nicht ab, sondern fuehrt den `except` Anweisungsblock aus\n",
    "```python\n",
    "try :\n",
    "    Anweisungsblock\n",
    "except :\n",
    "    Notfallanweisungen\n",
    "```"
   ]
  }
 ],
 "metadata": {
  "anaconda-cloud": {},
  "kernelspec": {
   "display_name": "Python [default]",
   "language": "python",
   "name": "python3"
  },
  "language_info": {
   "codemirror_mode": {
    "name": "ipython",
    "version": 3
   },
   "file_extension": ".py",
   "mimetype": "text/x-python",
   "name": "python",
   "nbconvert_exporter": "python",
   "pygments_lexer": "ipython3",
   "version": "3.5.2"
  }
 },
 "nbformat": 4,
 "nbformat_minor": 0
}
