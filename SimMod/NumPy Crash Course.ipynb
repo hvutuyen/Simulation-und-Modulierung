{
 "cells": [
  {
   "cell_type": "markdown",
   "metadata": {},
   "source": [
    "<h1><u>Numpy Crash Course</u></h1>"
   ]
  },
  {
   "cell_type": "markdown",
   "metadata": {},
   "source": [
    "Numpy ist das grundlegende Python Modul fuer numerisches Rechnen. Es stellt den Datentyp `ndarray` (Arrays) zur Verfuegung, fuer den im Gegensatz zu den normalen Python Containern schnelle Berechungen moeglich sind. Das liegt daran, dass Arrays nur Elemente eines einzigen Typs besitzen, die ausserdem in einem einzigen Block unveraenderlicher Groesse im Speicher stehen. Die Position eines einzelnen Elements kann somit schnell berechnet werden und Operationen ueber alle Array Elemente koennen schnell, z.B. parallel und in C++, implementiert werden. \n",
    "\n",
    "<h3>shape up</h3><br>\n",
    "Numpy Arrays haben eine Dimension (`shape`), d.h. Laenge, Breite, Tiefe etc. und dementsprechend Tupel as Indizes. Wie in Python ueblich, kann man die runden Klammern von Tupeln weglassen. `x[i,j]` ist das gleiche wie `x[(i,j)]`. Je nach Dimension koennen `numpy` Arrays als Vektoren, Matrizen, Tabellen, Tensoren usw. interpretiert und verwendet werden.\n",
    "\n",
    "Numpy Funktionen und Operatoren sind im Allgemeinen vektorisiert. Das heisst sie werden auf Arrays angewendet und liefern Arrays der gleichen Groesse zurueck wobei die Funktion fuer jedes einzelne Argument berechnet wird. Numpy bietet auch die Moeglichkeit Ihre eigenen Funktionen zu vektorisieren, wodurch Sie sich eine langsame Python `for`-Schleife ueber alle Elemente eines Arrays ersparen. **Merke : vektorisierte Funktionen und Operatoren sind in python immer schneller als for-Schleifen!** (siehe unten...)\n",
    "\n",
    "Wenn Sie Alles aus pylab importieren, dann importieren Sie alle Definitionen von numpy sowohl direkt in den Haupt-Namespace von Python als auch in den Namespace des Objektes np. Sie koennen also zum Beispiel die Funktion exp2() einfach so aufrufen oder als np.exp2(). Die zweite Variante ist vorzuziehen, weil man so beim lesen sofort sieht, wo die Definition dieser speziellen mathematischen Funktion herkommt."
   ]
  },
  {
   "cell_type": "code",
   "execution_count": 2,
   "metadata": {
    "collapsed": false
   },
   "outputs": [
    {
     "name": "stdout",
     "output_type": "stream",
     "text": [
      "this is version 1.11.1 of numpy.\n",
      "have fun!\n"
     ]
    }
   ],
   "source": [
    "import numpy as np\n",
    "print(\"this is version {} of numpy.\\nhave fun!\".format(np.__version__))"
   ]
  },
  {
   "cell_type": "markdown",
   "metadata": {},
   "source": [
    "Erzeugung von Arrays\n",
    "--------------------"
   ]
  },
  {
   "cell_type": "markdown",
   "metadata": {},
   "source": [
    "Der Constructor `np.array(L)` erstellt ein Numpy Array aus einem Container `L`. Alle Elemente des Arrays besitzen den allgemeinsten Datentyp in `L`. Es wird versucht, die Struktur des Containers `L` als Dimension des Arrays zu behalten. Eine Liste aus zwei Containern mit je zwei Elementen, z.B. `[[1,2],(3,4)]` wird in ein 2x2 Matrix Array umgewandelt."
   ]
  },
  {
   "cell_type": "code",
   "execution_count": 6,
   "metadata": {
    "collapsed": false
   },
   "outputs": [
    {
     "name": "stdout",
     "output_type": "stream",
     "text": [
      "[[1 2]\n",
      " [3 4]]\n",
      "[1 2]\n",
      "1\n",
      "(2, 2)\n",
      "int64\n",
      "----------------------------------\n",
      "[[1, 2] [3, 4, 5]]\n",
      "(2,)\n",
      "object\n",
      "8\n"
     ]
    }
   ],
   "source": [
    "L0=[[1,2],[3,4]]\n",
    "A0 = np.array(L0)\n",
    "print(A0)\n",
    "print(A0[0])\n",
    "print(A0[0,0])\n",
    "print(A0.shape)\n",
    "print(A0.dtype)\n",
    "\n",
    "print('----------------------------------')\n",
    "\n",
    "L2=[[1,2],[3,4,5]]\n",
    "A2 = np.array(L2)\n",
    "print(A2)\n",
    "print(A2.shape)\n",
    "print(A2.dtype)      # das Array besteht aus Zeigern zu list Objekten\n",
    "print(A2.itemsize)"
   ]
  },
  {
   "cell_type": "markdown",
   "metadata": {},
   "source": [
    "**ndarray, zeros, ones**\n",
    "\n",
    "Der Construktor `np.zeros(shape,dtype=float)` erstellt ein Numpy Array dessen Dimension durch den Parameter `shape` bestimmt wird, und welches Elemente vom Typ `float` besitzt und diese alle auf Null setzt.\n",
    "\n",
    "`np.ndarray(shape,dtype=float)` reserviert nur den Speicherplatz fuer ein Array, schreibt aber nichts hinein. Der Wert der Elemente ist dann nicht fest definiert.\n",
    "\n",
    "Der Constructor `np.ones(shape,dtype=float)` schreibt das Array mit Einsen voll.\n",
    "\n",
    "Der Parameter `dtype` gibt den Datentyp der Elemente im Array an. Dieser kann beliebig sein, wird aber meistens als `int`, `float` oder `omplex` genommen und als `np.int64`, `np.float64` und `np.complex128` implementiert."
   ]
  },
  {
   "cell_type": "code",
   "execution_count": null,
   "metadata": {
    "collapsed": false
   },
   "outputs": [],
   "source": [
    "A = np.ndarray((2,2))\n",
    "print(A)"
   ]
  },
  {
   "cell_type": "markdown",
   "metadata": {},
   "source": [
    "** eye, diag **\n",
    "\n",
    "Es werden in der Numerik oft Matrizen benoetigt, die nur Eintraege auf der Diagonalen oder auf den Nebendiagonalen haben. Man erzeugt eine NxN Einheitsmatrix mit `np.eye(N)`. Die vollstaendige Syntax lautet `np.eye(N, M=None, k=0, dtype=float)` und erzeugt eine NxM Matrix deren Eintraege ueberall Null sind, ausser auf der k-ten Nebendiagonalen. k=0 ist die Hauptdiagonale. Positive oder negative Zahlen bezeichnen Diagonalen ueber oder unter der Hauptdiagonalen.\n",
    "\n",
    "Die Funktion `np.diag(v,k=0)` verwendet man, um aus einem sequenzierbaren Objekt (z.B. Liste oder 1d Array) eine Matrix zu erzeugen, welche die Eintraege `v[i]` auf der k-ten Diagonalen hat. Ebenso kann man `np.diag(A,k)` verwenden, um aus einer Matrix die k-te Diagonale zu kopieren."
   ]
  },
  {
   "cell_type": "code",
   "execution_count": 8,
   "metadata": {
    "collapsed": false
   },
   "outputs": [
    {
     "name": "stdout",
     "output_type": "stream",
     "text": [
      "[[1 0 0 0 0]\n",
      " [0 2 0 0 0]\n",
      " [0 0 3 0 0]\n",
      " [0 0 0 4 0]\n",
      " [0 0 0 0 5]]\n",
      "[1 2 3 4 5]\n"
     ]
    }
   ],
   "source": [
    "A = np.diag([1,2,3,4,5],k=0)\n",
    "x=np.diag(A,k=0)\n",
    "print(A)\n",
    "print(x)"
   ]
  },
  {
   "cell_type": "markdown",
   "metadata": {},
   "source": [
    "** arange, linspace, logspace**\n",
    "\n",
    "`np.arange(i,j,k)` hat dieselbe Funktionsweise wie die normale python Funktion `range` bzw. das iterierbare Objekt `xrange()` und liefert ein Numpy Array von ganzen Zahlen zurueck.\n",
    "\n",
    "`np.linspace(start,stop,num=50,endpoint=True)` liefert ein Array der Laenge `num` (Standard `num=50`) mit `float` Zahlen von `start` bis `stop` in gleichmaessigem Abstand zurueck, wobei `start` und `stop` Elemente des Arrays sind. Wenn `endpoint=False` gesetzt wird, ist `stop` nicht im Array enthalten.\n",
    "\n",
    "`np.logspace(start,stop,num=50,endpoint=True,base=10.0)` erstellt ein array mit den Elementen `base**x` wobei `x` die Werte von `start` bis `stop` in gleichmaessigem Abstand annimmt. Das Ergebnis ist aequivalent zu `base**np.linspace(start,stop,num,endpoint)` ."
   ]
  },
  {
   "cell_type": "code",
   "execution_count": null,
   "metadata": {
    "collapsed": false
   },
   "outputs": [],
   "source": [
    "print(np.linspace(0,1,num=10))\n",
    "print(np.linspace(0,1,10,endpoint=False))"
   ]
  },
  {
   "cell_type": "markdown",
   "metadata": {},
   "source": [
    "** rand, randn **\n",
    "\n",
    "Das Untermodul `numpy.random` stellt verschiedene Funktionen zur Erzeugung von (pseudo) Zufallszahlen zur Verfuegung. An dieser Stelle seinen nur die Funtionen `np.random.rand(*shape)` und `np.random.randn(*shape)` genannt, welche Arrays mit gleichverteilten Zufallszahlen im Intervall [0,1) bzw. Normalverteilte Zufallzahlen mit Mittelwert Null und Varianz Eins erzeugt. Die Funktionen nehmen beliebig viele Integer Zahlen als Argumente. Ohne Argument wird kein Array, sondern eine einzelne Zufallszahl erzeugt."
   ]
  },
  {
   "cell_type": "markdown",
   "metadata": {},
   "source": [
    "<h3>a view on shape shifting</h3>\n",
    "\n",
    "Da die Daten sowieso in einem Block im Speicher liegen, kann man die Dimension eines Arrays beliebig veraendern, wenn es die Anzahle der Elemente zulaesst. Dafuer reicht es, das Attribut `shape` eines Arrays zu veraendern.\n",
    "\n",
    "    A.shape = newshape\n",
    "\n",
    "Die folgenden shapes sind am gebraeuchlichsten :\n",
    " - `shape` = N ist ein Vektor aus $\\mathbb{R}^N$\n",
    " - `shape` = (N,M) ist eine Matrix aus $\\mathbb{R}^{NxM}$\n",
    " - `shape` = (1,M) ist ein Zeilenvektor und\n",
    " - `shape` = (N,1) ist ein Spaltenvektor"
   ]
  },
  {
   "cell_type": "code",
   "execution_count": 10,
   "metadata": {
    "collapsed": false
   },
   "outputs": [
    {
     "name": "stdout",
     "output_type": "stream",
     "text": [
      "[ 1.  1.  1.  1.  1.  1.  1.  1.  1.  1.]\n",
      "[[ 1.]\n",
      " [ 1.]\n",
      " [ 1.]\n",
      " [ 1.]\n",
      " [ 1.]\n",
      " [ 1.]\n",
      " [ 1.]\n",
      " [ 1.]\n",
      " [ 1.]\n",
      " [ 1.]]\n",
      "[[ 1.  1.  1.  1.  1.  1.  1.  1.  1.  1.]]\n"
     ]
    }
   ],
   "source": [
    "print(np.ones(10))       # Vektor mit 10 Eintraegen\n",
    "print(np.ones((10,1)))   # 10x1 Spaltenvektor \n",
    "print(np.ones((1,10)))   # 1x10 Zeilenvektor"
   ]
  },
  {
   "cell_type": "markdown",
   "metadata": {},
   "source": [
    "** size, ndim, itemsize, nbytes, strides **\n",
    "\n",
    "Die Anzahl der Elemente eines Arrays `A` wird im Attribut `A.size` gespeichert, die Zahl der Indizes ist `A.ndim`. \n",
    "\n",
    "`A.itemsize` ist die Groesse eines Elementes in Bytes und `A.nbytes` ist die Gesamtgoesse des Arrays in Bytes.\n",
    "\n",
    "Intern werden Ansichten eines Arrays allein durch Attribute `A.shape`, `A.strides` und die Methode `A.view(dtype=float)` reguliert. Es ist sogar moeglich, dass man Diagonalen einer 2d Matrix als 1d Array Ansicht auf dieselbe Matrix definiert. `A.strides` gibt fuer jede Axe die Zahl der Bytes an, die zwischen zwei Elemente im Speicherblock liegen. `A.view(dtype=newtype)` interpretiert denselben Speicherblock mit einem neuen Datentyp `newtype`, wenn die Groesse des Speicherblocks ein Vielfaches der Groesse des neuen Typs ist."
   ]
  },
  {
   "cell_type": "code",
   "execution_count": 9,
   "metadata": {
    "collapsed": false
   },
   "outputs": [
    {
     "name": "stdout",
     "output_type": "stream",
     "text": [
      "x.shape : (2, 5)\n",
      "x.ndim : 2\n",
      "x.nbytes : 80\n",
      "x.itemsize : 8\n",
      "x.strides : (40, 8)\n",
      "x :\n",
      " [[ 0.63004214  0.39760057  0.66926103  0.89332838  0.70678733]\n",
      " [ 0.26319406  0.14167613  0.73176027  0.68765443  0.16067416]]\n",
      "n.shape : (2, 40)\n",
      "n.ndim : 2\n",
      "n.nbytes : 80\n",
      "n.itemsize : 1\n",
      "n.strides : (40, 1)\n",
      "n :\n",
      " [[ 102   95  -66   35   78   41  -28   63   20  110  112  -84   73  114\n",
      "   -39   63  -32 -100 -115   29 -106  106  -27   63   21   80  -28  102\n",
      "    37 -106  -20   63 -122   -4  -39  120    0  -98  -26   63]\n",
      " [  24  -35    0  -27   43  -40  -48   63  104  -52   89  124  113   34\n",
      "   -62   63   10  100  -35 -123 -108  106  -25   63   59   95  -62  -36\n",
      "    67    1  -26   63   40  -83  -68 -115   -8 -112  -60   63]]\n"
     ]
    }
   ],
   "source": [
    "x=np.random.rand(10)\n",
    "x.shape=(2,5)\n",
    "n=x.view(dtype=np.int8)\n",
    "print(\"x.shape : {}\".format(x.shape))\n",
    "print(\"x.ndim : {}\".format(x.ndim))\n",
    "print(\"x.nbytes : {}\".format(x.nbytes))\n",
    "print(\"x.itemsize : {}\".format(x.itemsize))\n",
    "print(\"x.strides : {}\".format(x.strides))\n",
    "print(\"x :\\n {}\".format(x))\n",
    "print(\"n.shape : {}\".format(n.shape))\n",
    "print(\"n.ndim : {}\".format(n.ndim))\n",
    "print(\"n.nbytes : {}\".format(n.nbytes))\n",
    "print(\"n.itemsize : {}\".format(n.itemsize))\n",
    "print(\"n.strides : {}\".format(n.strides))\n",
    "print(\"n :\\n {}\".format(n))"
   ]
  },
  {
   "cell_type": "markdown",
   "metadata": {},
   "source": [
    "** Indexakrobatik **\n",
    "\n",
    "Wie bei veraenderbaren Objekten in Python hat auch hier der Zuweisungsoperator `=` keine Kopierfunktion, sondern es wird demselben Array ein weiterer Name zugeordnet. Was aber viel interessanter ist, ein und dasselbe Array kann mehrere Ansichten (Views) gleichzeitig haben, d.h. verschiedene Namen, unter denen die Elemente des Arrays anders angeordnet sind oder interpretiert werden. \n",
    "\n",
    "`B=A.reshape(newshape)` liefert ***eine andere Ansicht auf dasselbe Array***. Werden die Daten in `A` veraendert, veraendern sich auch die Daten in `B` und umgekehrt.\n",
    "\n",
    "Numpy Arrays unterstuetzen auch die Indexnotation, die Ihnen von sequenzierbaren Containern schon bekannt ist. Allerdings liefert `B=A[i:j:k]` kein neues Array zurueck, sondern eine Teilansicht auf dasselbe Array, bzw. eine Scheibe (Slice) vom Array.\n",
    "\n",
    "Indexnotation `B=A[i0:j0:k0,i1:j1:k1]` kann ueber alle Dimensionen eines Arrays verwendet werden.\n",
    "\n",
    "Eine andere Moeglichkeit Teilfelder auszuwaehlen, ist die Methode der Indexfelder `I` mit ganzen Zahlen als Elementen. Bei einem 1d-Array `A` liefert der Ausdruck `B=A[I]` ***ein neues Feld*** mit derselben Dimension wie das Indexfeld zurueck und Elementen welche durch `I` indiziert werden. Also z.B. `B[i,j]=A[I[i,j]]`. \n",
    "\n",
    "Bei (N+1) dimensionalen Feldern und Indexfeldern `I0,I1,...,IN` mit identischen shapes kann man schreiben `B=A[I0,I1,...,IN]` wobei `B` dann auch dieselbe Dimension wie die Indexfelder hat. Also z.B. `B[i,...] = A[I0[i,...],I1[i,...]]`.\n",
    "\n",
    "Eine weitere Moeglichkeit Teilfelder von `A` zu kopieren funktioniert ueber boolean Felder `Q` mit der gleichen Dimension wie `A`. `B=A[Q]` ist ein 1d Array mit den Werten `A[i0,i1,...]` an denen `Q[i0,i1,...]` True ist. So ist z.B. `x[x>0]` ein 1d Feld mit allen positiven Elementen aus dem beliebig dimensionalen Array `x`. Der Ausdruck `x[x<0]=0` setzt alle negativen Elemente von `x` Null. "
   ]
  },
  {
   "cell_type": "code",
   "execution_count": 293,
   "metadata": {
    "collapsed": false
   },
   "outputs": [
    {
     "name": "stdout",
     "output_type": "stream",
     "text": [
      "[ 0.          0.13956007  0.05520455  0.          0.          0.          0.\n",
      "  0.96881415  0.          0.        ]\n",
      "[ 0.         -1.          0.05520455 -1.          0.         -1.          0.\n",
      "  0.96881415  0.          0.        ]\n",
      "[ 0.05520455 -1.          0.         -1.          0.        ]\n"
     ]
    }
   ],
   "source": [
    "x=np.random.randn(10)\n",
    "x[x<0]=0\n",
    "print(x)\n",
    "x[[1,3,5]]=-1\n",
    "print(x)\n",
    "print(x[np.arange(2,7)])"
   ]
  },
  {
   "cell_type": "markdown",
   "metadata": {},
   "source": [
    "** Matrixmultiplikation, Lineare Gleichungssysteme **\n",
    "\n",
    "Multiplikation `A*B` von Arrays ist elementweise. Fuer Vektor und Matrixmultiplikation verwendet man die Methode `dot()`\n",
    "\n",
    "`A.dot(B)` bzw. `np.dot(A,B)` summiert ueber den letzten Index von `A` und den vorletzten Index von `B`.\n",
    "\n",
    "Im Untermodul `numpy.linalg` gibt es eine Reihe weiterer Funktionen aus der linearen Algebra. Eine wichte Funktion hierbei ist\n",
    "\n",
    "`np.linalg.solve(A,b)` welche das lineare Gleichungssystem $A\\vec{x}=\\vec{b}$ bzw. mehrere LGS $AX=B$ gleichzeitig loest (einen Spaltenvektor von `X` fuer jeden Spaltenvektor von `B`).\n",
    "\n",
    "** Vektorisierung **\n",
    "\n",
    "Die Funktion `numpy.vectorize(f)` liefert eine vektorisierte Version der Funktion `f` zurueck. Hierbei koennen beliebige Positions, bzw. Schluesselwortargumente ausgenommen werden. Alle anderen Argumente nehmen nacheinander die Werte der Elemente der Arrays an, die der vektorisierten Funktion uebergeben werden.\n",
    "\n",
    "    vecgcd = np.vectorize(gcd) # die Funktion vecgcd(A,B) liefert ein Array mit den groessten gemeinsamen Teilern der Elemente aus den Arrays A und B zurueck."
   ]
  },
  {
   "cell_type": "code",
   "execution_count": null,
   "metadata": {
    "collapsed": false
   },
   "outputs": [],
   "source": [
    "x=np.arange(10)\n",
    "print(np.sin(x))   # die Funktion np.sin() ist standardmaessig vektorisiert, die Funktion math.sin() nicht.\n",
    "import math as m\n",
    "# m.sin(x) # -> TypeError\n",
    "vecsin = np.vectorize(m.sin)\n",
    "print(vecsin(x))\n"
   ]
  },
  {
   "cell_type": "markdown",
   "metadata": {},
   "source": [
    "<h3>Array Manipulation und Statistiken</h3>\n",
    "\n",
    "** conjugate, transpose, strides, view **\n",
    "\n",
    "`np.conjugate(A)`, `A.conj()` und `A.conjugate()` liefern ein elementweise konjugiert complexes Array zurueck.\n",
    "\n",
    "`np.transpose(A)`, `A.transpose()` and `A.T` liefern die ***transponierte Ansicht*** des Arrays `A` zurueck. Veraenderungen in `A` veraendern auch alle Ansichten von `A`.\n",
    "\n",
    "    At = A.T.conj() # At ist die Hermitisch konjugierte Matrix zu A\n",
    "\n",
    "`A.transpose(*axes)` hat als Argument entweder einen sequenzierbaren Container von integer Zahlen oder mehrere integer Zahlen, welche eine Permutation der Axennummern beschreiben. `A.transpose(2,1,0)` oder `A.transpose([2,1,0])` vertauscht z.B. die erste mit der letzten Axe in einem 3d Array. (Die Permutation von Axen wird durch eine Permutation des `strides` Attributes erreicht.)"
   ]
  },
  {
   "cell_type": "code",
   "execution_count": null,
   "metadata": {
    "collapsed": false
   },
   "outputs": [],
   "source": [
    "A=np.random.rand(2,2)+1j*np.random.rand(2,2)\n",
    "At=A.T.conj()\n",
    "print(A)\n",
    "print(At)"
   ]
  },
  {
   "cell_type": "code",
   "execution_count": null,
   "metadata": {
    "collapsed": false
   },
   "outputs": [],
   "source": [
    "A=np.random.rand(5,5)\n",
    "Adiag=A.ravel()[::A.shape[1]+1]\n",
    "Adiag[2]=0\n",
    "print(A)\n",
    "print(Adiag)"
   ]
  },
  {
   "cell_type": "markdown",
   "metadata": {},
   "source": [
    "\n",
    "**Fuer die Geschwindigkeit von Numpy Routinen ist es essentiell, wenn moeglich, mit Ansichten statt Kopien zu arbeiten!**\n",
    "\n",
    "** ravel, flatten, mean, var, std **\n",
    "\n",
    "`A.ravel()` is eine 1d Array *Ansicht* eines Feldes, waehrend `A.flatten()` eine 1d *Kopie* ist.\n",
    "\n",
    "`A.mean()` bzw. `np.mean(A)` berechnet den Mittelwert **ueber alle** Elemente von `A`, waehrend `A.mean(axis)` nur ueber den Index mit der Nummer `axis` mittelt.\n",
    "\n",
    "`A.var(axis=None,ddof=0)` bzw. `var(A)` berechnet die Varianz ueber aller Elemente von `A` als"
   ]
  },
  {
   "cell_type": "markdown",
   "metadata": {},
   "source": [
    "$$\n",
    "var(A) = \\frac{1}{N-ddof} \\sum_{a\\in A}^{N=|A|} \\left(a - mean(A)\\right)^2\n",
    "$$"
   ]
  },
  {
   "cell_type": "markdown",
   "metadata": {},
   "source": [
    "Standardmaessig ist `ddof=0`. In der Statistik verwendet man jedoch oft `ddof=1` um einen Schaetzwert fuer die Varianz *ohne Bias* zu erhalten. `A.std(axis=None,ddof=0)` ist die Wurzel aus der Varianz.\n",
    "\n",
    "** max, min, sum, cumsum, prod, cumprod, sort **\n",
    "\n",
    "`A.max(axis=None)` und `A.min(axis=None)` berechnen Maximum und Minimum, entweder von allen Elementen, oder entlang einer gegebenen Axe. Die aequivalenten Numpy Funktionen sind `np.min(A)` und `np.max(A)`.\n",
    "\n",
    "Deweiteren kann man die Summe `sum(A)`, das Produkt `prod(A)` sowie die kumulative Summe `cumsum(A)` und das kumulative Produkt `cumprod(A)` ueber die Elemente eines Arrays berechnen, auch ueber einzelne Axen. Z.B. :"
   ]
  },
  {
   "cell_type": "markdown",
   "metadata": {},
   "source": [
    "$$\n",
    "sum(A) = \\sum_{ij} A_{ij}\n",
    "$$\n",
    "$$\n",
    "sum(A,axis=1)_i = \\sum_{j} A_{ij}\n",
    "$$\n",
    "$$\n",
    "cumsum(A)_i = \\sum_{j=0}^i A.ravel()_j\n",
    "$$\n",
    "$$\n",
    "cumsum(A,axis=1)_{ij} = \\sum_{k=0}^j A_{ik}\n",
    "$$\n"
   ]
  },
  {
   "cell_type": "markdown",
   "metadata": {},
   "source": [
    "`np.sort(A)` erzeugt eine Kopie von `A` und sortiert diese, waehrend `A.sort()` das Array `A` direkt sortiert. Standardmaessig wird ueber die letzte Axe und aufsteigend sortiert. `A.sort(axis=-1)` sortiert `A` ueber die letzte Achse. Fuer absteigende Sortierung verwenden Sie einfach einen invertierten View auf das sortierte Array, z.B."
   ]
  },
  {
   "cell_type": "code",
   "execution_count": null,
   "metadata": {
    "collapsed": false
   },
   "outputs": [],
   "source": [
    "A=np.random.rand(5)\n",
    "A.sort()  # aufsteigende Sortierung\n",
    "B=A[::-1] # invertierter View\n",
    "print(A)\n",
    "print(B)"
   ]
  },
  {
   "cell_type": "markdown",
   "metadata": {},
   "source": [
    "Belesen Sie sich <a href=\"http://docs.scipy.org/doc/numpy/reference/generated/numpy.loadtxt.html\">zum Laden von Daten aus Textdateien mit np.loadtxt(...)</a>"
   ]
  },
  {
   "cell_type": "code",
   "execution_count": null,
   "metadata": {
    "collapsed": false
   },
   "outputs": [],
   "source": []
  }
 ],
 "metadata": {
  "anaconda-cloud": {},
  "kernelspec": {
   "display_name": "Python [default]",
   "language": "python",
   "name": "python3"
  },
  "language_info": {
   "codemirror_mode": {
    "name": "ipython",
    "version": 3
   },
   "file_extension": ".py",
   "mimetype": "text/x-python",
   "name": "python",
   "nbconvert_exporter": "python",
   "pygments_lexer": "ipython3",
   "version": "3.5.2"
  }
 },
 "nbformat": 4,
 "nbformat_minor": 0
}
