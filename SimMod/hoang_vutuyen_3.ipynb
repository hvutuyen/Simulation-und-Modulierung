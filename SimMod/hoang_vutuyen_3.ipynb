{
 "cells": [
  {
   "cell_type": "markdown",
   "metadata": {},
   "source": [
    "## Simulation und Modellierung WS16/17 - Uebung 03"
   ]
  },
  {
   "cell_type": "markdown",
   "metadata": {},
   "source": [
    "### Aufgabe 1\n",
    "\n",
    "- Schreiben Sie eine List Comprehension, welche zu einer gegebenen ganzen Zahl `p` eine Liste aller Teiler ausser `1` und `p` erstellt.\n",
    "- Schreiben Sie eine List Comprehension, welche eine Liste aller Primzahlen mit weniger als vier Dezimalziffern erstellt.\n",
    "- Ueberpruefen Sie anhand dieser Liste, ob `377` eine Primzahl ist.\n"
   ]
  },
  {
   "cell_type": "code",
   "execution_count": null,
   "metadata": {
    "collapsed": false,
    "scrolled": true
   },
   "outputs": [],
   "source": [
    "\"Teilaufgabe 1\"\n",
    "\n",
    "p = int(input())\n",
    "l = [x for x in range(2,p) if (p%x)==0] # range startet bei 2 und endet bei p-1\n",
    "\n",
    "print(l) # die folgende Liste zeigt alle Teiler der Zahl p, ausser 1 und sich selbst, an."
   ]
  },
  {
   "cell_type": "code",
   "execution_count": null,
   "metadata": {
    "collapsed": false
   },
   "outputs": [],
   "source": [
    "\"Teilaufgabe 2 und 3\"\n",
    "\n",
    "keineprimzahlen = [y for y in range(2, 1000) for y in range (y*2, 1000, y)]\n",
    "primzahlen = [x for x in range(2, 1000) if x not in keineprimzahlen]\n",
    "\n",
    "print(primzahlen) # Liste gibt die Primzahlen von 2 bis 999 an\n",
    "\n",
    "377 in primzahlen # Bool-Abfrage ob 377 in der Liste enthalten ist"
   ]
  },
  {
   "cell_type": "markdown",
   "metadata": {},
   "source": [
    "### Aufgabe 2\n",
    "\n",
    "Schreiben Sie Python Code, welcher die Gleitkommazahl, welche durch eine gegebene 64 Bitfolge beschrieben wird berechnet. \n",
    "\n",
    "z.B. : `s = \"0100000001011110110111010011110000000111111011100000101100001011\"`\n",
    "\n",
    "*Hinweis :* Sie koennen eine Bitfolge `s` durch `int(s,base=2)` in eine ganze Zahl umwandeln."
   ]
  },
  {
   "cell_type": "code",
   "execution_count": 5,
   "metadata": {
    "collapsed": false,
    "scrolled": false
   },
   "outputs": [
    {
     "name": "stdout",
     "output_type": "stream",
     "text": [
      "123.456789\n"
     ]
    }
   ],
   "source": [
    "s = \"0100000001011110110111010011110000000111111011100000101100001011\"\n",
    "\n",
    "VZ = s[0]\n",
    "E = s[1:12]\n",
    "M = s[12:]\n",
    "\n",
    "VZ = int(VZ, base=2)\n",
    "E = int(E, base=2)\n",
    "M =int(M, base=2)\n",
    "\n",
    "x = (-1)**VZ * (1 + M/2**52) * 2**(E-1023)\n",
    "print(x)"
   ]
  },
  {
   "cell_type": "code",
   "execution_count": null,
   "metadata": {
    "collapsed": false
   },
   "outputs": [],
   "source": []
  },
  {
   "cell_type": "markdown",
   "metadata": {},
   "source": [
    "Der folgende Code fuehrt die umgekehrte Operation aus. Aus einer `float64` Gleitkommazahl wird die Bitfolge generiert, welche diese Zahl repraesentiert. Ueberpruefen Sie damit Ihre Berechnung."
   ]
  },
  {
   "cell_type": "code",
   "execution_count": null,
   "metadata": {
    "collapsed": false
   },
   "outputs": [],
   "source": [
    "import numpy as np \n",
    "x=987.654321                         # schreiben Sie hier x=y, um die Bitfolge der float64 variable y zu erhalten\n",
    "b=np.array(x,dtype=np.float64)       # schreibt den Inhalt von x in ein Numpy array b\n",
    "b.dtype=np.int64                     # interpretiert den Inhalt von b als 64Bit ganze Zahl\n",
    "print(np.binary_repr(b,64))          # Ausgabe der Bitfolge fuer die ganze Zahl b"
   ]
  },
  {
   "cell_type": "markdown",
   "metadata": {},
   "source": [
    "### Aufgabe 3\n",
    "Welchen Wahrheitswert hat der Ausdruck `3.0*(1.0+0.2) == (3.0*1.0)+(3.0*0.2)` und warum?"
   ]
  },
  {
   "cell_type": "code",
   "execution_count": null,
   "metadata": {
    "collapsed": false
   },
   "outputs": [],
   "source": [
    "3.0*(1.0+0.2) == (3.0*1.0)+(3.0*0.2) \n",
    "\n",
    "# False, durch Rundungsfehler bei der Fließkommaberechnung\n",
    "# python gibt für 3.0*(1.0+0.2) < (3.0*1.0)+(3.0*0.2) True aus"
   ]
  },
  {
   "cell_type": "markdown",
   "metadata": {},
   "source": [
    "------------------\n",
    "**nuetzliche Keyboard shotcuts**\n",
    "\n",
    "|              |               |\n",
    "|--------------|---------------|\n",
    "| `Esc`        | Kommando Modus   |\n",
    "| `Enter`      | Editier Modus    |\n",
    "|`Shift-Enter` | ausfuehren, Zelle darunter auswaehlen |\n",
    "|`Ctrl-Enter`  | ausfuehren, selbe Zelle auswaehlen    |\n",
    "|`Alt-Enter`   | ausfuehren, Zelle darunter einfuegen |\n",
    "| `b`          | Zelle unterhalb einfuegen |\n",
    "| `a`          | Zelle ueberhalb einfuegen |\n",
    "| `dd`          | Zelle loeschen |\n",
    "| `z`          | Zelle loeschen rueckgaengig machen |\n",
    "\n",
    "---------------------"
   ]
  }
 ],
 "metadata": {
  "anaconda-cloud": {},
  "kernelspec": {
   "display_name": "Python [default]",
   "language": "python",
   "name": "python3"
  },
  "language_info": {
   "codemirror_mode": {
    "name": "ipython",
    "version": 3
   },
   "file_extension": ".py",
   "mimetype": "text/x-python",
   "name": "python",
   "nbconvert_exporter": "python",
   "pygments_lexer": "ipython3",
   "version": "3.5.2"
  }
 },
 "nbformat": 4,
 "nbformat_minor": 0
}
