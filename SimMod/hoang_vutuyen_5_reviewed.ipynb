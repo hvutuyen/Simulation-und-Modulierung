{
 "cells": [
  {
   "cell_type": "markdown",
   "metadata": {
    "collapsed": true
   },
   "source": [
    "## Simulation und Modellierung WS16/17 - Uebung 05"
   ]
  },
  {
   "cell_type": "markdown",
   "metadata": {},
   "source": [
    "### Aufgabe 1 : verallgemeinerte Fibonacci Zahlen"
   ]
  },
  {
   "cell_type": "markdown",
   "metadata": {},
   "source": [
    "Schreiben Sie eine Funktion `AllgFib(F0=1,F1=1,a=1,b=1,N=3)`, welche die ersten `N` Folgeglieder der verallgemeinerte Fibonaccifolge\n",
    "\n",
    "$$\n",
    "    F_{n+1} = a F_n + b F_{n-1}\n",
    "$$\n",
    "\n",
    "mit den Anfangsbedingungen $F_0=$ `F0` und $F_1=$ `F1` berechnet und als Liste ausgibt. (Achtung : Die Definition in der Vorlesung war etwas anders)\n",
    "\n",
    "Schreiben Sie eine Funktion `my_sqrt(x)`, welche mit Hilfe der verallgemeinerten Fibonacci Zahlen die Wurzel aus `x` bis auf Maschinengenauigkeit ausrechnet. Berechnen Sie $\\sqrt{2}$ mit dieser Funktion. \n",
    "\n",
    "*Hinweis :* Iterieren Sie die Fibonacci Folge schrittweise bis sich das Verhaeltnis aufeinanderfolgender Zahlen nicht mehr aendert."
   ]
  },
  {
   "cell_type": "code",
   "execution_count": null,
   "metadata": {},
   "outputs": [],
   "source": [
    "N=int(input(\"wie viele fibonacci zahlen sollen berechnet werden ? \"))\n",
    "\n",
    "# N = 3 für sqrt(2) \n",
    "\n",
    "def AllgFib(N, F0=1,F1=1,a=1,b=1):  \n",
    "    if N < 2:\n",
    "        return F0\n",
    "    else:\n",
    "        return AllgFib(N-1) + AllgFib(N-2)\n",
    "    \n",
    "for N in range(N):\n",
    "    print(AllgFib(N))\n",
    "    "
   ]
  },
  {
   "cell_type": "code",
   "execution_count": null,
   "metadata": {},
   "outputs": [],
   "source": [
    "def my_sqrt(N, t=2):\n",
    "    a = AllgFib(N)\n",
    "    y = float(a)\n",
    "    \n",
    "    for i in range(10):\n",
    "        y = (y + (a/y))/ t\n",
    "    return y\n",
    "sqrt_2 = my_sqrt(N)\n",
    "print(sqrt_2)\n"
   ]
  },
  {
   "cell_type": "markdown",
   "metadata": {},
   "source": [
    "Die sqrt-Funktion stimmt nicht, wie du siehst. Siehe Musterloesung demnaechst."
   ]
  },
  {
   "cell_type": "markdown",
   "metadata": {},
   "source": [
    "### Aufgabe 2 : Collatz-Problem"
   ]
  },
  {
   "cell_type": "markdown",
   "metadata": {},
   "source": [
    "Wir betrachten die folgende Abbildung ueber den *positiven* natuerlichen Zahlen\n",
    "\n",
    "$$\n",
    "    f(n) = \\left\\lbrace \\begin{array}{ll}\n",
    "                            {}n/2 \\qquad &,\\textrm{falls }n\\textrm{ gerade} \\\\\n",
    "                            3n+1\\qquad &,\\textrm{falls }n\\textrm{ ungerade}\n",
    "                        \\end{array}\n",
    "           \\right.\n",
    "$$\n",
    "\n",
    "sowie die natuerliche Zahl $\\tau(n)$ welche angibt, wie of $f$ iteriert werden muss, bis man die Zahl 1 erreicht, d.h.\n",
    "\n",
    "$$\n",
    "    \\left(f\\circ\\right)^{\\tau(n)}(n) = 1\n",
    "$$"
   ]
  },
  {
   "cell_type": "markdown",
   "metadata": {},
   "source": [
    "Schreiben Sie eine Funktion `tau(n)`, welche diese Zahl berechnet. Berechnen Sie eine Liste `L` der Werte $\\tau(n)$ fuer die ersten `2**20` positiven natuerlichen Zahlen und plotten diese mit\n",
    "\n",
    "```python\n",
    "    from pylab import *\n",
    "    plot(L,'.') # nur Punkte setzen, ohne diese zu verbinden\n",
    "    show()\n",
    "```"
   ]
  },
  {
   "cell_type": "markdown",
   "metadata": {},
   "source": [
    "<a href=\"https://en.wikipedia.org/wiki/Collatz_conjecture\">Collatz-Problem @ Wikipedia</a><br>\n",
    "Collatz-Problem @ xkcd : <img src=\"http://imgs.xkcd.com/comics/collatz_conjecture.png\">"
   ]
  },
  {
   "cell_type": "code",
   "execution_count": 1,
   "metadata": {},
   "outputs": [],
   "source": [
    "def tau(n, tau_old=0):\n",
    "    gerade = n/2 \n",
    "    ungerade = 3*n+1\n",
    "    tau_new = tau_old\n",
    "    while n!=1:\n",
    "        if n%2 == 0:\n",
    "            tau_new, n = tau(gerade, tau_old+1)  \n",
    "        else:\n",
    "            tau_new, n = tau(ungerade, tau_old+1) \n",
    "    return tau_new, n\n",
    "# du hattest es fast! du musst noch einen Parameter mehr uebergeben\n",
    "L=[]\n",
    "for n in range(1,2**20):\n",
    "    L.append(tau(n, 0)[0])\n"
   ]
  },
  {
   "cell_type": "code",
   "execution_count": null,
   "metadata": {
    "collapsed": true
   },
   "outputs": [],
   "source": []
  },
  {
   "cell_type": "code",
   "execution_count": 2,
   "metadata": {},
   "outputs": [
    {
     "data": {
      "image/png": "[encoded data removed]",
      "text/plain": [
       "<matplotlib.figure.Figure at 0x106503a20>"
      ]
     },
     "metadata": {},
     "output_type": "display_data"
    }
   ],
   "source": [
    "from pylab import *\n",
    "plot(L,'.')\n",
    "show()"
   ]
  },
  {
   "cell_type": "code",
   "execution_count": null,
   "metadata": {
    "collapsed": true
   },
   "outputs": [],
   "source": []
  },
  {
   "cell_type": "markdown",
   "metadata": {
    "collapsed": true
   },
   "source": [
    "9 Punkte."
   ]
  },
  {
   "cell_type": "code",
   "execution_count": null,
   "metadata": {
    "collapsed": true
   },
   "outputs": [],
   "source": []
  }
 ],
 "metadata": {
  "anaconda-cloud": {},
  "kernelspec": {
   "display_name": "Python 3",
   "language": "python",
   "name": "python3"
  },
  "language_info": {
   "codemirror_mode": {
    "name": "ipython",
    "version": 3
   },
   "file_extension": ".py",
   "mimetype": "text/x-python",
   "name": "python",
   "nbconvert_exporter": "python",
   "pygments_lexer": "ipython3",
   "version": "3.6.5"
  }
 },
 "nbformat": 4,
 "nbformat_minor": 1
}
