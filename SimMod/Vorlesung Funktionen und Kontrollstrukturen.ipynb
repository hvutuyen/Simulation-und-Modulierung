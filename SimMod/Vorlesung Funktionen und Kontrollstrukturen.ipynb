{
 "cells": [
  {
   "cell_type": "markdown",
   "metadata": {},
   "source": [
    "## Funktionen und Kontrollstrukturen\n",
    "### Inhalt\n",
    "- [Funktionen](#Funktionen)\n",
    "    - [Ein- und Auspacken von Argumenten](#packing)\n",
    "    - [Die Lambda Funktion](#DieLambdaFunktion)\n",
    "- [Kontrollstrukturen](#Kontrollstrukturen)\n",
    "    - [if Verzweigung](#if-Verzweigung)\n",
    "    - [for Schleife](#for-Schleife)\n",
    "    - [while Schleife](#while-Schleife)\n",
    "    - [break, continue, pass, else](#break)\n",
    "    - [Anzeigen und Auffangen von Fehlern](#Exceptions)\n",
    "    - [Fehlertoleranz](#Fehlertoleranz)"
   ]
  },
  {
   "cell_type": "markdown",
   "metadata": {},
   "source": [
    "### Funktionen\n",
    "\n",
    "Funktionen werden durch Vorranstellen von `def` deklariert. Dann folgt der Funktionsname und die Argumente der Funktion in runden Klammern und ein Doppelpunkt. Die darunter stehenden Zeilen, welche die Funktion definieren muessen eingerueckt werden. Es folgt ein Dokumentationesstring in dreifachen Gaensefuesschen ueber mehrere Zeilen, welcher ausgegeben wird, wenn der Funktionsname mit Fragezeichen in IPython eigegeben wird. In den Zeilen der Funktion wird dann ein Ausdruck berechnet, welcher mit `return` als Funktionswert zurueckgeliefert wird."
   ]
  },
  {
   "cell_type": "markdown",
   "metadata": {},
   "source": [
    "```python\n",
    "def f(p0,p1,...,s0=A0,s1=A1,...) :\n",
    "    \"\"\"Dokumentationstext\n",
    "    ueber mehrere Zeilen\n",
    "    \"\"\"\n",
    "    Anweisungsblock\n",
    "    return Ausdruck\n",
    "```"
   ]
  },
  {
   "cell_type": "markdown",
   "metadata": {},
   "source": [
    "Die Argumente `p` sind Positionsargumente, und muessen bei jedem Funktionsaufruf in genau derselben Reihenfolge uebergeben werden. Die Argumente `s` sind Schluesselwordargumente. Diese muessen immer hinter den Positionsargumente stehen, und nehmen die Werte der Ausdruecke `A` an, wenn sie nicht spezifiziert werden. So berechnet der Ausdruck\n",
    "```python\n",
    "f(p0,p1,...,pm,s1=B1)\n",
    "```\n",
    "die Funktion\n",
    "```python\n",
    "f(p0,p1,...,pm,s0=A0,s1=B1,...,sm=Am)\n",
    "```\n"
   ]
  },
  {
   "cell_type": "markdown",
   "metadata": {},
   "source": [
    "### Ein- und Auspacken von Argumenten <a id=\"packing\">\n",
    "\n",
    "Die Anzahl der uebergebenen Schluesselwortargumente einer Funktion ist somit flexibel. Fuer eine flexible Anzahl von Positions- und Schluesselwortargumenten hat Python die Opertoren `*` und `**`, welche aus einer Liste bzw. einem Woerterbuch Argumente einer Funktion \"entpacken\" koennen, bzw. die Argumente einer Funktion in eine Liste bzw. ein Woerterbuch \"einpacken\" koennen. Die Anweisung\n",
    "```python\n",
    "x,*y,z = range(5)\n",
    "```\n",
    "Weist `x` den ersten Wert aus `range(5)` zu, `z` den letzten Wert und alle Werte dazwischen werden in eine Liste mit dem Namen `y` \"gepackt\".\n",
    "\n",
    "Ruft man eine Funktion `f(*L,**D)`mit einer Liste `L` und einem Woerterbuch `D` auf, so werden diese als Funktionsargumente \"ausgepackt\". Die Liste `L` muss dann aber genau soviele Elemente haben, wie `f` Positionsargumente und das Woerterbuch `D` darf keine unbekannten Schluesselwoerter beinhalten. Man kann auch mischen, z.B. `f(p1,*L,A2=B2,**D)`, wenn `L` und `D` das zulassen.\n",
    "\n",
    "Bei Funktionsdefinitionen bewirken die Operatoren `*` und `**`, dass die Argumente in eine Liste bzw. ein Woerterbuch \"gepackt\" werden. Die Funktion\n",
    "```python\n",
    "def f(p0,*args,s0=A0,**kwargs) : \n",
    "    ...\n",
    "```\n",
    "Wird immer mit mindestens einem Positionsargument `p0` aufgerufen, und hat immer ein Schluesselwortargument, welches standardmaessig den Wert `A0` hat. Alle zusaetzlich uebergebnen Positions- und Schluesselwortargumente werden in eine Liste `args` und ein Woerterbuch `kwargs` \"eingepackt\". Man kann auf diese Argumente innerhalb der Funktion ueber die Container `args` und `kwargs` zugreifen.\n",
    "\n",
    "Eine Funktion\n",
    "```python\n",
    "def f(*args,**kwargs) :\n",
    "    Anweisungsblock\n",
    "    return Ausdruck\n",
    "```\n",
    "kann mit beliebig vielen Argumenten aufgerufen werden."
   ]
  },
  {
   "cell_type": "markdown",
   "metadata": {},
   "source": [
    "### Die Lambda Funktion\n",
    "\n",
    "Der Ausdruck\n",
    "```python\n",
    "lambda p0,p1,...,s0=A0,s1=A1,... : Ausdruck\n",
    "```\n",
    "erzeugt ein Funktionsobjekt, welches mit den Positions- und Schluesselwortargumenten `p` bzw. `s` aufgerufen werden kann, und das Objekt `Ausdruck` zurueckliefert. Auch hier kann man wie bei der Definition von Funktionen Argumente packen. Die Anweisung\n",
    "```python\n",
    "f = lambda p0,p1,...,s0=A0,s1=A1,... : Ausdruck\n",
    "```\n",
    "ist aequivalent zu\n",
    "```python\n",
    "def f(p0,p1,...,s0=A0,s1=A1,...) :\n",
    "    return Ausdruck\n",
    "```\n",
    "Man verwendet den `lamda` Operator (`lamda` Funktion), um einfache Hilfsfunktionen zu definieren\n",
    "```python\n",
    "filter(lambda x : x%2==0, L)  # Liste aller geraden Elemente aus L\n",
    "```\n",
    "Die `lambda` Funktion wird meist benutzt, um Funktionen zu definieren, welche als Argumente an andere Funktionen uebergeben werden, und bestimmte Spezifikationen erfuellen muessen (z.B. Anzahl und Reihenfolge der Argumente). Numerische Integration verlangt z.B. oft eine Funktion der Form `f(t,x)`. Wenn Sie also Ihre eigene Funktion `g(x,y,t,epsilon=0.1)` bei `y=2.0`und `epsilon=0.5` integrieren moechten, so definieren Sie z.B.\n",
    "```python\n",
    "f = lambda t,x : g(x,2.0,t,epsilon=0.5)\n",
    "```"
   ]
  },
  {
   "cell_type": "markdown",
   "metadata": {},
   "source": [
    "## Kontrollstrukturen"
   ]
  },
  {
   "cell_type": "markdown",
   "metadata": {},
   "source": [
    "### if Verzweigung\n",
    "```python\n",
    "if Ausdruck :\n",
    "    Anweisungsblock\n",
    "elif Ausdruck :\n",
    "    Anweisungsblock\n",
    "...\n",
    "else :\n",
    "    Anweisungsblock\n",
    "```\n",
    "Berechnet die Ausdruecke hinter `if` und `elif` solagne bis einer den Wahrheitswert `True` hat und fuehrt dann den Anweisungsblock fuer diesen Zweig durch. Ist keiner der Ausdruecke `True`, so wird der Anweisungsblock unter `else` ausgefuehrt. Die alternativen Zweige, welche mit `elif` oder `else` beginnen koennen auch weggelassen werden. "
   ]
  },
  {
   "cell_type": "markdown",
   "metadata": {},
   "source": [
    "### for Schleife\n",
    "In `for` Schleifen wird ueber die Elemente eines iterierbaren Objektesn (z.B. Container) iteriert. Der Anweisungsblock wird fuer jedes Element einmal ausgefuehrt.\n",
    "```python\n",
    "for x in M :\n",
    "    Anweisungsblock\n",
    "    # x nimmt nacheinander die Identitaet der Emelente aus dem iterierbaren Objekt M an\n",
    "```\n",
    "Soll ueber ganze Zahlen iteriert werden, so verwendet man `range(j)` (in Python 2 `xrange(j)`) als `M`."
   ]
  },
  {
   "cell_type": "markdown",
   "metadata": {},
   "source": [
    "### while Schleife\n",
    "In einer `while` Schleife wird **als erstes** der Wahrheitswert eines Ausdruckes bestimmt und falls dieser `True` ist ein Anweisungsblock ausgefuehrt. Diese beiden Schritte der `while` Schleife werden solange wiederholt, bis der Ausdruck den Wahrheitswert `False` hat. \n",
    "```python\n",
    "while Ausdruck :\n",
    "    Anweisungblock\n",
    "```"
   ]
  },
  {
   "cell_type": "markdown",
   "metadata": {},
   "source": [
    "### break, continue, pass, else <a id=\"break\">"
   ]
  },
  {
   "cell_type": "markdown",
   "metadata": {},
   "source": [
    "Die `for` und die `while` Schleifen koennen noch einen weiteren Teil besitzen, welcher nach Beendigung der Schleife ausgefuehrt wird.\n",
    "```python\n",
    "loop :\n",
    "    ...\n",
    "    break # bricht loop ab, ohne in den else Anweisungsblock zu gehen\n",
    "    continue # bricht Anweisungsblock ab, und fuehrt den naechsten Schleifendurchgang aus\n",
    "    pass # macht absolut gar nichts. wird als platzhalter verwendet, wenn syntaktisch eine Anweisung notwendig ist \n",
    "    ...\n",
    "else :\n",
    "    Anweisungsblock # wird nach Beendigung der Schleife ausgefuehrt, wenn diese nicht durch break beendet wurde\n",
    "```\n",
    "Eine `do-while` Schleife, die es in Python nicht gibt (ein entsprechender Vorschlag PEP 315 wurde 2003 abgelehnt), kann man wie folgt emulieren :\n",
    "```python\n",
    "while True :\n",
    "    Anweisungsblock\n",
    "    if Bedingung : break\n",
    "```"
   ]
  },
  {
   "cell_type": "markdown",
   "metadata": {},
   "source": [
    "### try, except, raise, else, finally <a id='Exceptions'>\n",
    "\n",
    "Tritt waehrend der Laufzeit eines Programms ein Fehler auf, so wird eine \"Exception angezeigt\" (raised). Ist eine Exception angezeigt, so wird eine Programmabbruchskaskade in Gang gesetzt. Die aufrufenden Funktionen einschliesslich des Hauptprogramms werden in umgekehrter Reihenfolge verlassen und anschliessend werden die Zeilen aller Funktionen in denen die Exception auftrat sowie ein erklaerender Text ausgegeben.\n",
    "\n",
    "Man kann Exceptions \"abfangen\". Tritt der Fehler innerhalb einer `try-except` Umgebung auf, so wird nur der `try` Anweisungsblock verlassen, und man hat die Moeglichkeit,\n",
    "\n",
    "- das Programm mit alternativen/Notfallanweisungen weiterlaufen zu lassen, oder \n",
    "- die Fehlermeldung zu modifizieren und die Abbruchskaskade weiterlaufen zu lassen indem man die Exception erneut anzeigt (reraise)\n",
    "\n",
    "```python\n",
    "try :\n",
    "    Anweisungsblock\n",
    "except ExceptionTyp as err :\n",
    "    Notfallanweisungen falls eine Exception auftrat\n",
    "    raise err\n",
    "else :\n",
    "    Anweisungen falls keine Exception auftrat\n",
    "finally :\n",
    "    Anweisungen, die immer ausgefuehrt werden (Exception wird neu angezeigt, wenn sie nicht abgefangen wurde)\n",
    "```\n",
    "\n",
    "Tritt im `try` Block einer `try-except` Struktur eine Exception auf, so wird der `try` Block sofort verlassen, dann der erste `except` Block ausgefuehrt, welcher den gleichen oder gar keinen Exception Typ auffuehrt. Eine `except` Anweisung bezieht sich auf einen einzelnen Exception Typ, ein Tupel von Exception Typen oder auf beliebige Exceptions, wenn kein Exception Typ oder der allgemeine Exception Typ `Exception` angegeben ist. Dem Exception Objekt kann man mit `as` einen Namen geben, um es zu modifizieren oder wiederanzeigen zu koennen.\n",
    "\n",
    "Tritt keine Exception auf, so wird der `else` Block ausgefuehrt. Im Anschluss wird immer der `finally` Block ausgefuehrt.\n",
    "\n",
    "Trat eine Exception auf, und wurde diese nicht mit `except` abgefangen, so wird die Exception wieder angezeigt und die Abbruchkaskade setzt sich fort.\n",
    "\n",
    "`raise err` zeigt eine Exception `err` an. Man kann allgemeine Exceptions jederzeit durch `Exception(*args,**kwargs)` erzeugen und diese auch mit `raise` anzeigen, was zur Programmabbruchkaskade fuehrt. Spezielle Exceptions sind von der allgemeinen Klasse abgeleitet. So ist eine Exception vom Typ `ZeroDivisionError` auch vom Typ `Exception`. Innerhalb des `except` Anweisungsblocks wird mit `raise` ohne Argument die letzte Exception neu angezeigt.\n",
    "```python\n",
    "    raise Exception('An exception flew by!')\n",
    "```\n",
    "\n",
    "\n"
   ]
  },
  {
   "cell_type": "markdown",
   "metadata": {},
   "source": [
    "### Fehlertoleranz\n",
    "\n",
    "Semantischer Unfug fuehrt in Python dazu das an der Stelle an der ein Fehler auftritt eine \"Exception angezeigt wird\" (raised). Danach werden saemtliche aufrufende Instanzen sofort verlassen und diese mit Zeilennummern in umgekehrter Reihenfolge zusammen mit einer Fehlermeldung ausgegeben.\n",
    "\n",
    "Von der Fehlermeldung koennen Programmieranfaenger oft nicht auf den Fehler schliessen. Ausserdem fuehren Exceptions zum Programmabruch und somit zu eingeschraenkter Funktionalitaet.\n",
    "\n",
    "Als Programmierer sollten Sie kontrollieren, ob die Argumente einer Funktion auch tatsaechlich im \"Definitionsbereich\" der Funktion liegen, also bestimmten Spezifikationen und Vorraussetzungen genuegen. Im besten Fall bricht Python fuer sie ab, wenn ihre Anweisungen mit den uebergebenen Argumenten nicht definiert sind. Im schlimmeren Fall liefert die Funktion ein unvorhersehbares Ergebnis.\n",
    "\n",
    "Um eine Funktion *idiotensicher* zu machen, sollten die Argumente geprueft werden. Stellen Sie fest, dass die Argumente nicht zur Berechnung der Funktion geeignet sind, so haben Sie die Wahl \n",
    "- eine Exception anzuzeigen, und diese vom Anwender der Funktion ggf. abfangen zu lassen, \n",
    "- eine Fehlermeldung auszugeben und einen vordefinierten Wert mit `return` zurueckzuliefern, \n",
    "- oder die Argumente zu korrigieren, um sie den Spezifikationen Ihrer Funktion anzupassen.\n",
    "\n"
   ]
  },
  {
   "cell_type": "code",
   "execution_count": 23,
   "metadata": {
    "collapsed": false
   },
   "outputs": [
    {
     "name": "stdout",
     "output_type": "stream",
     "text": [
      ">>>1+1\n",
      "exec(1+1)\n",
      "cleaning up...\n"
     ]
    }
   ],
   "source": [
    "anweisung = input('>>>')\n",
    "try :\n",
    "    print('exec('+anweisung+')')        # oder print('exec({})'.format(anweisung))\n",
    "    exec(anweisung)\n",
    "except SyntaxError:\n",
    "    print('Syntaktischer Unfug')\n",
    "except Exception as err :\n",
    "    print('Semantischer Unfug : ',err)\n",
    "finally :\n",
    "    print('cleaning up...')"
   ]
  }
 ],
 "metadata": {
  "kernelspec": {
   "display_name": "Python [default]",
   "language": "python",
   "name": "python3"
  },
  "language_info": {
   "codemirror_mode": {
    "name": "ipython",
    "version": 3
   },
   "file_extension": ".py",
   "mimetype": "text/x-python",
   "name": "python",
   "nbconvert_exporter": "python",
   "pygments_lexer": "ipython3",
   "version": "3.5.2"
  }
 },
 "nbformat": 4,
 "nbformat_minor": 0
}
