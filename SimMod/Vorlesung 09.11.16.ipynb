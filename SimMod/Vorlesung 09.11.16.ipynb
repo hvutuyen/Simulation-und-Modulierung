{
 "cells": [
  {
   "cell_type": "code",
   "execution_count": 2,
   "metadata": {
    "collapsed": false
   },
   "outputs": [
    {
     "name": "stdout",
     "output_type": "stream",
     "text": [
      "bitte geben Sie eine Zahl ein :2235.234\n"
     ]
    }
   ],
   "source": [
    "s =input(\"bitte geben Sie eine Zahl ein :\")"
   ]
  },
  {
   "cell_type": "code",
   "execution_count": 3,
   "metadata": {
    "collapsed": false
   },
   "outputs": [
    {
     "name": "stdout",
     "output_type": "stream",
     "text": [
      "2235.234\n"
     ]
    }
   ],
   "source": [
    "print(s) # Hier ist s ein String"
   ]
  },
  {
   "cell_type": "code",
   "execution_count": 4,
   "metadata": {
    "collapsed": true
   },
   "outputs": [],
   "source": [
    "x = float(s)"
   ]
  },
  {
   "cell_type": "code",
   "execution_count": 5,
   "metadata": {
    "collapsed": false
   },
   "outputs": [
    {
     "data": {
      "text/plain": [
       "2235.234"
      ]
     },
     "execution_count": 5,
     "metadata": {},
     "output_type": "execute_result"
    }
   ],
   "source": [
    "x # s wurde in eine float umgewandelt"
   ]
  },
  {
   "cell_type": "code",
   "execution_count": 2,
   "metadata": {
    "collapsed": false
   },
   "outputs": [
    {
     "name": "stdout",
     "output_type": "stream",
     "text": [
      "bitte geben Sie eine Zahl ein :134.5\n",
      "Die Zahl lautete 134.5\n"
     ]
    }
   ],
   "source": [
    "s =input(\"bitte geben Sie eine Zahl ein :\")\n",
    "try : # wird zuerst ausgeführt\n",
    "    x=float(s)\n",
    "    print(\"Die Zahl lautete\", x) # wenn zahl eingegeben wird, dann wird diese angezeigt\n",
    "except :\n",
    "    print(\"Dies war keine gueltige Zahl!\") # wenn keine zahl eingegeben wird, dann wird das angezeigt"
   ]
  },
  {
   "cell_type": "code",
   "execution_count": 8,
   "metadata": {
    "collapsed": false
   },
   "outputs": [
    {
     "name": "stdout",
     "output_type": "stream",
     "text": [
      "bitte geben Sie Ausdruck ein :bool(x) == True\n",
      "True\n"
     ]
    }
   ],
   "source": [
    "s =input(\"bitte geben Sie Ausdruck ein :\")\n",
    "print(eval(s))"
   ]
  },
  {
   "cell_type": "code",
   "execution_count": null,
   "metadata": {
    "collapsed": false
   },
   "outputs": [],
   "source": [
    "s =input(\"bitte geben Sie eine Anweisung ein :\")\n",
    "print(exec(s))"
   ]
  },
  {
   "cell_type": "code",
   "execution_count": null,
   "metadata": {
    "collapsed": true
   },
   "outputs": [],
   "source": []
  }
 ],
 "metadata": {
  "anaconda-cloud": {},
  "kernelspec": {
   "display_name": "Python [default]",
   "language": "python",
   "name": "python3"
  },
  "language_info": {
   "codemirror_mode": {
    "name": "ipython",
    "version": 3
   },
   "file_extension": ".py",
   "mimetype": "text/x-python",
   "name": "python",
   "nbconvert_exporter": "python",
   "pygments_lexer": "ipython3",
   "version": "3.5.2"
  }
 },
 "nbformat": 4,
 "nbformat_minor": 1
}
