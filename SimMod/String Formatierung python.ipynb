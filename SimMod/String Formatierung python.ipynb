{
 "cells": [
  {
   "cell_type": "markdown",
   "metadata": {},
   "source": [
    "## String Formatierung in python\n",
    "\n",
    "### Grundlegend: positionale Formatierung\n",
    "\n"
   ]
  },
  {
   "cell_type": "code",
   "execution_count": 3,
   "metadata": {
    "collapsed": false
   },
   "outputs": [
    {
     "name": "stdout",
     "output_type": "stream",
     "text": [
      "one two\n",
      "one two\n"
     ]
    }
   ],
   "source": [
    "#alter Stil \n",
    "print('%s %s' % ('one', 'two')) \n",
    "\n",
    "#neuer Stil \n",
    "print('{} {}'.format('one', 'two'))"
   ]
  },
  {
   "cell_type": "code",
   "execution_count": 4,
   "metadata": {
    "collapsed": false
   },
   "outputs": [
    {
     "name": "stdout",
     "output_type": "stream",
     "text": [
      "1 2\n",
      "1 2\n"
     ]
    }
   ],
   "source": [
    "#alter Stil \n",
    "print('%d %d' % (1, 2)) \n",
    "\n",
    "#neuer Stil \n",
    "print('{} {}'.format(1, 2))"
   ]
  },
  {
   "cell_type": "markdown",
   "metadata": {},
   "source": [
    "Aendern der Reihenfolge, nur im neuen Stil moeglich:"
   ]
  },
  {
   "cell_type": "code",
   "execution_count": 5,
   "metadata": {
    "collapsed": false
   },
   "outputs": [
    {
     "name": "stdout",
     "output_type": "stream",
     "text": [
      "two one\n"
     ]
    }
   ],
   "source": [
    "#neuer Stil \n",
    "print('{1} {0}'.format('one', 'two'))"
   ]
  },
  {
   "cell_type": "markdown",
   "metadata": {},
   "source": [
    "### Konversion von Werten mit 'represent' und 'string'"
   ]
  },
  {
   "cell_type": "code",
   "execution_count": 14,
   "metadata": {
    "collapsed": false
   },
   "outputs": [
    {
     "name": "stdout",
     "output_type": "stream",
     "text": [
      "a = 5\n",
      "a = 5\n"
     ]
    }
   ],
   "source": [
    "#alter Stil \n",
    "a = 5\n",
    "print('%s %r' % ('a =', a))\n",
    "\n",
    "#neuer Stil \n",
    "print('{!s} {!r}'.format('a =', a))"
   ]
  },
  {
   "cell_type": "markdown",
   "metadata": {},
   "source": [
    "American Standard Code for Information Interchange (ASCII):"
   ]
  },
  {
   "cell_type": "code",
   "execution_count": 15,
   "metadata": {
    "collapsed": false
   },
   "outputs": [
    {
     "name": "stdout",
     "output_type": "stream",
     "text": [
      "'Häppi new year!' 'H\\xe4ppi new year!'\n",
      "'Häppi new year!' 'H\\xe4ppi new year!'\n"
     ]
    }
   ],
   "source": [
    "#alter Stil \n",
    "print('%r %a' % ('Häppi new year!', 'Häppi new year!'))\n",
    "\n",
    "#neuer Stil \n",
    "print('{0!r} {0!a}'.format('Häppi new year!', 'Häppi new year!'))"
   ]
  },
  {
   "cell_type": "markdown",
   "metadata": {},
   "source": [
    "### 'Stopfen' und Anordnen von Strings"
   ]
  },
  {
   "cell_type": "code",
   "execution_count": 44,
   "metadata": {
    "collapsed": false
   },
   "outputs": [
    {
     "name": "stdout",
     "output_type": "stream",
     "text": [
      "      test\n",
      "      test\n",
      "test      \n",
      "test      \n",
      "   test   \n",
      "test______ ______test\n",
      "test...... ......test\n",
      "test000000 000000test\n"
     ]
    }
   ],
   "source": [
    "#rechtsbuendig in 10 Felder\n",
    "\n",
    "#alter Stil \n",
    "print('%10s' % ('test',))\n",
    "\n",
    "#neuer Stil \n",
    "print('{:>10}'.format('test'))\n",
    "\n",
    "#print('%10s' % ('mein String ist zu lang',))\n",
    "\n",
    "\n",
    "#linksbuendig in 10 Felder\n",
    "\n",
    "#alter Stil \n",
    "print('%-10s' % ('test',))\n",
    "\n",
    "#neuer Stil \n",
    "print('{:10}'.format('test'))\n",
    "\n",
    "#print('%-10s' % ('mein String ist zu lang',))\n",
    "\n",
    "\n",
    "#nur im neuen Stil: zentriert (bei ungerade weiter rechts) in zehn Feldern\n",
    "print('{:^10}'.format('test'))\n",
    "\n",
    "\n",
    "# Bei Benutzung von < und > kann man das Zeichen zum Stopfen bestimmen:\n",
    "print('{:_<10}'.format('test'), '{:_>10}'.format('test'))\n",
    "print('{:.<10}'.format('test'), '{:.>10}'.format('test'))\n",
    "print('{:0<10}'.format('test'), '{:0>10}'.format('test'))"
   ]
  },
  {
   "cell_type": "markdown",
   "metadata": {},
   "source": [
    "### Lange Strings abschneiden"
   ]
  },
  {
   "cell_type": "code",
   "execution_count": 36,
   "metadata": {
    "collapsed": false
   },
   "outputs": [
    {
     "name": "stdout",
     "output_type": "stream",
     "text": [
      "EG-Ve\n",
      "EG-Ve\n"
     ]
    }
   ],
   "source": [
    "#alter Stil \n",
    "print('%.5s' % ('EG-Verbraucherschutzdurchsetzungsgesetz-Ermächtigungsübertragungsverordnung',))\n",
    "\n",
    "#neuer Stil \n",
    "print('{:.5}'.format('EG-Verbraucherschutzdurchsetzungsgesetz-Ermächtigungsübertragungsverordnung',))"
   ]
  },
  {
   "cell_type": "markdown",
   "metadata": {},
   "source": [
    "### Zahlen"
   ]
  },
  {
   "cell_type": "code",
   "execution_count": 42,
   "metadata": {
    "collapsed": false
   },
   "outputs": [
    {
     "name": "stdout",
     "output_type": "stream",
     "text": [
      "Int 42 und float 3.141593\n",
      "Int 42      und float    3.1415927\n",
      "Int 42 und float 3.141593\n",
      "Int      42 und float    3.1415927\n"
     ]
    }
   ],
   "source": [
    "# Integers, Floats\n",
    "\n",
    "#alter Stil \n",
    "print('Int %d und float %f' % (42, 3.141592653589793,))\n",
    "print('Int %-7d und float %12.7f' % (42, 3.141592653589793,))\n",
    "\n",
    "#neuer Stil \n",
    "print('Int {:d} und float {:f}'.format(42, 3.141592653589793))\n",
    "print('Int {:-7d} und float {:12.7f}'.format(42, 3.141592653589793))"
   ]
  },
  {
   "cell_type": "code",
   "execution_count": null,
   "metadata": {
    "collapsed": true
   },
   "outputs": [],
   "source": []
  }
 ],
 "metadata": {
  "kernelspec": {
   "display_name": "Python [conda root]",
   "language": "python",
   "name": "conda-root-py"
  },
  "language_info": {
   "codemirror_mode": {
    "name": "ipython",
    "version": 3
   },
   "file_extension": ".py",
   "mimetype": "text/x-python",
   "name": "python",
   "nbconvert_exporter": "python",
   "pygments_lexer": "ipython3",
   "version": "3.5.2"
  }
 },
 "nbformat": 4,
 "nbformat_minor": 1
}
