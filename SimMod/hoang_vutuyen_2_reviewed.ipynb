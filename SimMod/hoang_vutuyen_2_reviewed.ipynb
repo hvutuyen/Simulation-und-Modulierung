{
 "cells": [
  {
   "cell_type": "markdown",
   "metadata": {},
   "source": [
    "## Simulation und Modellierung WS16/17 - Uebung 02"
   ]
  },
  {
   "cell_type": "markdown",
   "metadata": {},
   "source": [
    "### Aufgabe 1\n",
    "Schreiben Sie Ihre Lieblingsgleichung in `LaTeX` und beschreiben Sie diese. Warum ist es Ihre Lieblingsgleichung? Eine Einfuehrung in das Setzen von mathematischen Formeln mit `LaTeX` finden Sie hier : [Latex2e Kurzbeschreibung](https://www.google.de/search?btnG=1&pws=0&q=latex2e+kurzbeschreibung). Schauen Sie sich auch das IPython Markdown Tutorial auf unserer Moodle2 Seite an.\n",
    "\n",
    "\n",
    "$Gravitationsbeschleunigung\\ auf\\ der\\ Erde :$ $g = \\frac{G\\ *\\ M}{r^2}$ "
   ]
  },
  {
   "cell_type": "markdown",
   "metadata": {},
   "source": [
    "Dabei ist $G=  6,673 * 10^-11\\frac{m^3}{kg*s^2}$  die Gravitationskonstante. Diese ist ueberall gleich, weshalb es auch eine Naturkonstante ist. $M = 5,972\\ * 10^24\\ kg$ ist die Masse der Erde und $r = 6371000\\ m$. Da die Erde ein Geoid ist und nicht ueberall eine konstante Hoehe vorherrscht, hat $g$  zB. am Nordpol und am Aequator verschiedene Werte. Diese sind jedoch so gering, dass gerundet  $g= 9,81 \\frac{m}{s^2}$ gilt.\n",
    "\n",
    "Die Gleichung habe ich intuitiv gewählt, womöglich weil ich sie öfters im Geowissenschaftsstudium gebraucht habe und sie leicht zu lernen war.\n",
    "\n",
    "(Ich weiß nicht genau wie ich Potenzen/Hochschreibungen über mehrere Ziffern schreiben kann, weshalb ^-11 und ^24 nicht ganz funktioniert haben)"
   ]
  },
  {
   "cell_type": "markdown",
   "metadata": {},
   "source": [
    "### Aufgabe 2\n",
    "- Legen Sie eine Liste mit beliebigen Objekten (Strings,Zahlen,Container) an.\n",
    "- Geben Sie der Liste einen weiteren Namen\n",
    "- Aendern Sie ein Objekt in der Liste, z.B. mit `M[0]=0`\n",
    "- Ueberpruefen Sie durch `print` Ausgabe, dass sich die Liste unter beiden Namen veraendert hat\n",
    "- Vergleichen Sie Inhalt und Identitaet der beiden Listen(namen)\n",
    "- mit `list(L)` erzeugen Sie eine weitere Liste gleichen Inhalts wie `L`. Vergleichen Sie wieder Inhalt und Identitaet.\n",
    "- Lassen Sie sich mit der Tabulatortaste eine Liste der Methoden der Objektklasse `list` anzeigen und mit angehaengtem Fragezeichen die Beschreibung der Methoden. Experimentieren Sie mit den Listenmethoden."
   ]
  },
  {
   "cell_type": "code",
   "execution_count": null,
   "metadata": {
    "collapsed": false,
    "scrolled": true
   },
   "outputs": [],
   "source": [
    "M = ['str1', 2234, 'str2', ['U', 'P']]\n",
    "P = M\n",
    "print(M)"
   ]
  },
  {
   "cell_type": "code",
   "execution_count": null,
   "metadata": {
    "collapsed": false
   },
   "outputs": [],
   "source": [
    "print(P) # Liste P enthält Elemente der Liste M"
   ]
  },
  {
   "cell_type": "code",
   "execution_count": null,
   "metadata": {
    "collapsed": false
   },
   "outputs": [],
   "source": [
    "print(P[0]) # gibt erste Element aus Liste P aus"
   ]
  },
  {
   "cell_type": "code",
   "execution_count": null,
   "metadata": {
    "collapsed": false
   },
   "outputs": [],
   "source": [
    "P[0]=1 # Ändert das erste Element aus Liste P\n",
    "print(P)"
   ]
  },
  {
   "cell_type": "code",
   "execution_count": null,
   "metadata": {
    "collapsed": false
   },
   "outputs": [],
   "source": [
    "print(M) # Auch das erste Element aus Liste M wurde dementsprechend geändert"
   ]
  },
  {
   "cell_type": "code",
   "execution_count": null,
   "metadata": {
    "collapsed": false
   },
   "outputs": [],
   "source": [
    "print(id(M), id(P)) # M und P sind identisch"
   ]
  },
  {
   "cell_type": "code",
   "execution_count": null,
   "metadata": {
    "collapsed": false
   },
   "outputs": [],
   "source": [
    "M == P"
   ]
  },
  {
   "cell_type": "code",
   "execution_count": null,
   "metadata": {
    "collapsed": false
   },
   "outputs": [],
   "source": [
    "list(M)\n",
    "print(list(M))"
   ]
  },
  {
   "cell_type": "code",
   "execution_count": null,
   "metadata": {
    "collapsed": false
   },
   "outputs": [],
   "source": [
    "print(id(list(M)), id(M)) # list(M) und M haben den selben Inhalt, sind jedoch nicht identisch"
   ]
  },
  {
   "cell_type": "code",
   "execution_count": null,
   "metadata": {
    "collapsed": false
   },
   "outputs": [],
   "source": [
    "list.clear(M)\n",
    "M"
   ]
  },
  {
   "cell_type": "markdown",
   "metadata": {},
   "source": [
    "### Aufgabe 3\n",
    "Welche der folgenden Textzeilen sind Ausdruecke und welche Anweisungen? Welche Objekte werden durch die Ausdruecke beschrieben und was bewirken die Anweisungen?\n",
    "```python\n",
    "    X = \"cheese\" -> Anweisung #zuweisung\n",
    "    X == \"cheese\" -> Ausdruck #prueft auf Gleichheit\n",
    "    \"cheese\" is X -> Ausdruck #vergleich\n",
    "    from cheese import gauda,cheddar -> Anweisung #importiert Objekt von einem Paket bzw. anderem Objekt\n",
    "    gauda or cheddar -> Ausdruck #vergleich\n",
    "    import cheese as saussage -> Anweisung #importiert Paket und benennt es um\n",
    "    print(\"cheese\") -> Anweisung #das wort \"cheese\" wird ausgegeben\n",
    "    \"cheese\"[2] -> Ausdruck\n",
    "    float(\"1.2\") -> Ausdruck\n",
    "    type(gauda) -> Ausdruck\n",
    "    numpy.cos(numpy.pi) -> Ausdruck #funktionsaufruf\n",
    "    numpy.cos -> Ausdruck #funktionsaufruf\n",
    "    n//2 if n%2==0 else 3*n+1 -> Anweisung #if-else anweisung\n",
    "```"
   ]
  }
 ],
 "metadata": {
  "anaconda-cloud": {},
  "kernelspec": {
   "display_name": "Python [default]",
   "language": "python",
   "name": "python3"
  },
  "language_info": {
   "codemirror_mode": {
    "name": "ipython",
    "version": 3
   },
   "file_extension": ".py",
   "mimetype": "text/x-python",
   "name": "python",
   "nbconvert_exporter": "python",
   "pygments_lexer": "ipython3",
   "version": "3.5.2"
  }
 },
 "nbformat": 4,
 "nbformat_minor": 0
}
