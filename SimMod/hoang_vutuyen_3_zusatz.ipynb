{
 "cells": [
  {
   "cell_type": "markdown",
   "metadata": {},
   "source": [
    "## Zusatz zu Aufgabe 3.1\n",
    "Schreibt ein kleines Programm, indem Ihr die Laufzeit der durch"
   ]
  },
  {
   "cell_type": "code",
   "execution_count": 7,
   "metadata": {
    "collapsed": false
   },
   "outputs": [],
   "source": [
    "max_prime = 1000\n",
    "\n",
    "not_primes = [x for y in range(2, 32) for x in range(y*2, max_prime, y)]\n",
    "\n",
    "primes = [x for x in range(2, max_prime) if x not in not_primes]\n"
   ]
  },
  {
   "cell_type": "markdown",
   "metadata": {},
   "source": [
    "erhaltene Liste mit der Laufzeit einer Verkettung von for-Schleifen vergleicht, die die gleiche Liste erzeugt:"
   ]
  },
  {
   "cell_type": "markdown",
   "metadata": {},
   "source": [
    "```python\n",
    "for x in range(max_prime):\n",
    "\n",
    "    for y in range(x):\n",
    "\n",
    "        if ...:\n",
    "\n",
    "            ...\n",
    "\n",
    "        else:\n",
    "\n",
    "            ...\n",
    "```"
   ]
  },
  {
   "cell_type": "markdown",
   "metadata": {},
   "source": [
    "Schreibt dann eine Tabelle mit den Laufzeiten fuer max_prime = 10, 100, 1000, 10000:\n",
    "\n",
    "Laufzeit für  max_prime| 10  | 100 | 1000 | 10000  \n",
    "-----------------------|-----|-----|------|------\n",
    "list comprehension     |     |     |      |     \n",
    "for loop               |     |     |      |     \n",
    "\n"
   ]
  },
  {
   "cell_type": "markdown",
   "metadata": {},
   "source": [
    "Tipp: Nutzt zum Beispiel\n",
    "```python\n",
    "from time import clock\n",
    "```"
   ]
  },
  {
   "cell_type": "code",
   "execution_count": null,
   "metadata": {
    "collapsed": true
   },
   "outputs": [],
   "source": []
  }
 ],
 "metadata": {
  "anaconda-cloud": {},
  "kernelspec": {
   "display_name": "Python [conda root]",
   "language": "python",
   "name": "conda-root-py"
  },
  "language_info": {
   "codemirror_mode": {
    "name": "ipython",
    "version": 3
   },
   "file_extension": ".py",
   "mimetype": "text/x-python",
   "name": "python",
   "nbconvert_exporter": "python",
   "pygments_lexer": "ipython3",
   "version": "3.5.2"
  }
 },
 "nbformat": 4,
 "nbformat_minor": 1
}
